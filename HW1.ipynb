{
 "metadata": {
  "name": "",
  "signature": "sha256:2173951570aec8ae45356899e2a39b9a3dfe747cae6a96d9a609f461aa43eafe"
 },
 "nbformat": 3,
 "nbformat_minor": 0,
 "worksheets": [
  {
   "cells": [
    {
     "cell_type": "code",
     "collapsed": false,
     "input": [
      "import QSTK.qstkutil.qsdateutil as du\n",
      "import QSTK.qstkutil.tsutil as tsu\n",
      "import QSTK.qstkutil.DataAccess as da\n",
      "\n",
      "import datetime as dt\n",
      "import matplotlib.pyplot as plt\n",
      "import pandas as pd\n",
      "import numpy as np\n",
      "%matplotlib inline  \n",
      "\n",
      "\n",
      "#get all valid allocations into a matrix\n",
      "X = np.empty(shape=[0, 4])\n",
      "for i in np.linspace(0, 1, 11):\n",
      "    for j in np.linspace(0, 1, 11):\n",
      "        for k in np.linspace(0, 1, 11):\n",
      "            for l in np.linspace(0, 1, 11):\n",
      "                if i+j+k+l == 1:\n",
      "                    X = np.append(X, [[i, j, k, l]], axis=0)\n",
      "                    \n",
      "                    \n",
      "dt_start = dt.datetime(2010, 1, 1)\n",
      "dt_end = dt.datetime(2010, 12, 31)\n",
      "ls_symbols = ['AXP', 'HPQ', 'IBM', 'HNZ']\n",
      "allo = X.transpose()\n",
      "\n",
      "def simulate(dt_start, dt_end, ls_symbols, allo):\n",
      "    dt_timeofday = dt.timedelta(hours=16)\n",
      "    ldt_timestamps = du.getNYSEdays(dt_start, dt_end, dt_timeofday)\n",
      "\n",
      "    c_dataobj = da.DataAccess('Yahoo', cachestalltime=0)\n",
      "    ls_keys = ['open', 'high', 'low', 'close', 'volume', 'actual_close']\n",
      "    ldf_data = c_dataobj.get_data(ldt_timestamps, ls_symbols, ls_keys)\n",
      "\n",
      "    d_data = dict(zip(ls_keys, ldf_data))\n",
      "    na_price = d_data['close'].values\n",
      "\n",
      "    na_normalized_price = na_price / na_price[0, :]\n",
      "    cum_daily_ret = np.dot(na_normalized_price, allo)\n",
      "    cum_ret = cum_daily_ret[-1,:]\n",
      "    temp = cum_daily_ret.copy()\n",
      "    raw_daily_ret = tsu.returnize0(temp)\n",
      "    daily_ret = np.mean(raw_daily_ret, axis=0)\n",
      "    vol = np.std(raw_daily_ret, axis=0)\n",
      "    #sharpe = daily_ret / vol *np.sqrt(len(raw_daily_ret))\n",
      "    sharpe = daily_ret / vol *np.sqrt(252)\n",
      "    return(vol, daily_ret, sharpe, cum_ret)\n",
      "vol, daily_ret, sharpe, cum_ret = simulate(dt_start, dt_end, ls_symbols, allo)"
     ],
     "language": "python",
     "metadata": {},
     "outputs": [],
     "prompt_number": 1
    },
    {
     "cell_type": "code",
     "collapsed": false,
     "input": [
      "np.max(sharpe)"
     ],
     "language": "python",
     "metadata": {},
     "outputs": [
      {
       "metadata": {},
       "output_type": "pyout",
       "prompt_number": 2,
       "text": [
        "1.2988933400758886"
       ]
      }
     ],
     "prompt_number": 2
    },
    {
     "cell_type": "code",
     "collapsed": false,
     "input": [
      "allo[:,np.argmax(sharpe)]"
     ],
     "language": "python",
     "metadata": {},
     "outputs": [
      {
       "metadata": {},
       "output_type": "pyout",
       "prompt_number": 3,
       "text": [
        "array([ 0.,  0.,  0.,  1.])"
       ]
      }
     ],
     "prompt_number": 3
    },
    {
     "cell_type": "code",
     "collapsed": false,
     "input": [
      "vol[np.argmax(sharpe)]"
     ],
     "language": "python",
     "metadata": {},
     "outputs": [
      {
       "metadata": {},
       "output_type": "pyout",
       "prompt_number": 45,
       "text": [
        "0.0092429925593663972"
       ]
      }
     ],
     "prompt_number": 45
    },
    {
     "cell_type": "code",
     "collapsed": false,
     "input": [
      "daily_ret[np.argmax(sharpe)]"
     ],
     "language": "python",
     "metadata": {},
     "outputs": [
      {
       "metadata": {},
       "output_type": "pyout",
       "prompt_number": 46,
       "text": [
        "0.00075628558559302621"
       ]
      }
     ],
     "prompt_number": 46
    },
    {
     "cell_type": "code",
     "collapsed": false,
     "input": [
      "cum_ret[np.argmax(sharpe)]"
     ],
     "language": "python",
     "metadata": {},
     "outputs": [
      {
       "metadata": {},
       "output_type": "pyout",
       "prompt_number": 48,
       "text": [
        "1.1960583567954952"
       ]
      }
     ],
     "prompt_number": 48
    },
    {
     "cell_type": "code",
     "collapsed": false,
     "input": [
      "for i, value in enumerate(collection):\n",
      "   # do something with value"
     ],
     "language": "python",
     "metadata": {},
     "outputs": []
    },
    {
     "cell_type": "code",
     "collapsed": false,
     "input": [
      "some_list = ['foo', 'bar', 'baz']\n",
      "mapping = dict((v, i) for i, v in enumerate(some_list))\n",
      "mapping"
     ],
     "language": "python",
     "metadata": {},
     "outputs": [
      {
       "metadata": {},
       "output_type": "pyout",
       "prompt_number": 1,
       "text": [
        "{'bar': 1, 'baz': 2, 'foo': 0}"
       ]
      }
     ],
     "prompt_number": 1
    },
    {
     "cell_type": "code",
     "collapsed": false,
     "input": [
      "seq1 = ['foo', 'bar', 'baz']\n",
      "seq2 = ['one', 'two', 'three']\n",
      "zip(seq1, seq2)\n",
      "for i, (a, b) in enumerate(zip(seq1, seq2)):\n",
      "    print('%d: %s, %s' % (i, a, b))"
     ],
     "language": "python",
     "metadata": {},
     "outputs": [
      {
       "output_type": "stream",
       "stream": "stdout",
       "text": [
        "0: foo, one\n",
        "1: bar, two\n",
        "2: baz, three\n"
       ]
      }
     ],
     "prompt_number": 2
    },
    {
     "cell_type": "code",
     "collapsed": false,
     "input": [
      "states = ['   Alabama ', 'Georgia!', 'Georgia', 'georgia', 'FlOrIda',\n",
      "          'south   carolina##', 'West virginia?']\n",
      "import re  # Regular expression module\n",
      "\n",
      "def clean_strings(strings):\n",
      "    result = []\n",
      "    for value in strings:\n",
      "        value = value.strip()\n",
      "        value = re.sub('[!#?]', '', value) # remove punctuation\n",
      "        value = value.title()\n",
      "        result.append(value)\n",
      "    return result\n",
      "clean_strings(states)"
     ],
     "language": "python",
     "metadata": {},
     "outputs": [
      {
       "metadata": {},
       "output_type": "pyout",
       "prompt_number": 3,
       "text": [
        "['Alabama',\n",
        " 'Georgia',\n",
        " 'Georgia',\n",
        " 'Georgia',\n",
        " 'Florida',\n",
        " 'South   Carolina',\n",
        " 'West Virginia']"
       ]
      }
     ],
     "prompt_number": 3
    },
    {
     "cell_type": "code",
     "collapsed": false,
     "input": [
      "def remove_punctuation(value):\n",
      "    return re.sub('[!#?]', '', value)\n",
      "\n",
      "clean_ops = [str.strip, remove_punctuation, str.title]"
     ],
     "language": "python",
     "metadata": {},
     "outputs": [],
     "prompt_number": 4
    },
    {
     "cell_type": "code",
     "collapsed": false,
     "input": [
      "def clean_strings(strings, ops):\n",
      "    result = []\n",
      "    for value in strings:\n",
      "        for function in ops:\n",
      "            value = function(value)\n",
      "        result.append(value)\n",
      "    return result\n",
      "clean_strings(states, clean_ops)"
     ],
     "language": "python",
     "metadata": {},
     "outputs": [
      {
       "metadata": {},
       "output_type": "pyout",
       "prompt_number": 5,
       "text": [
        "['Alabama',\n",
        " 'Georgia',\n",
        " 'Georgia',\n",
        " 'Georgia',\n",
        " 'Florida',\n",
        " 'South   Carolina',\n",
        " 'West Virginia']"
       ]
      }
     ],
     "prompt_number": 5
    },
    {
     "cell_type": "code",
     "collapsed": false,
     "input": [
      "map(remove_punctuation, states)"
     ],
     "language": "python",
     "metadata": {},
     "outputs": [
      {
       "metadata": {},
       "output_type": "pyout",
       "prompt_number": 6,
       "text": [
        "['   Alabama ',\n",
        " 'Georgia',\n",
        " 'Georgia',\n",
        " 'georgia',\n",
        " 'FlOrIda',\n",
        " 'south   carolina',\n",
        " 'West virginia']"
       ]
      }
     ],
     "prompt_number": 6
    },
    {
     "cell_type": "code",
     "collapsed": false,
     "input": [
      "ints = [4, 0, 1, 5, 6]\n",
      "apply_to_list(ints, lambda x: x * 2)"
     ],
     "language": "python",
     "metadata": {},
     "outputs": []
    }
   ],
   "metadata": {}
  }
 ]
}
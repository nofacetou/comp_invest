{
 "metadata": {
  "name": "",
  "signature": "sha256:e65f4d459dde3bac35d02cd46d7fa8d851b03714c5ecd0f462ff7c6c3212a9a3"
 },
 "nbformat": 3,
 "nbformat_minor": 0,
 "worksheets": [
  {
   "cells": [
    {
     "cell_type": "code",
     "collapsed": false,
     "input": [
      "import pandas as pd\n",
      "import numpy as np\n",
      "import math\n",
      "import copy\n",
      "import QSTK.qstkutil.qsdateutil as du\n",
      "import datetime as dt\n",
      "import QSTK.qstkutil.DataAccess as da\n",
      "import QSTK.qstkutil.tsutil as tsu\n",
      "import QSTK.qstkstudy.EventProfiler as ep"
     ],
     "language": "python",
     "metadata": {},
     "outputs": [],
     "prompt_number": 1
    },
    {
     "cell_type": "code",
     "collapsed": false,
     "input": [
      "dt_start = dt.datetime(2009, 12, 1)\n",
      "dt_end = dt.datetime(2009, 12, 31)\n",
      "ldt_timestamps = du.getNYSEdays(dt_start, dt_end, dt.timedelta(hours=16))"
     ],
     "language": "python",
     "metadata": {},
     "outputs": [],
     "prompt_number": 2
    },
    {
     "cell_type": "code",
     "collapsed": false,
     "input": [
      "dataobj = da.DataAccess('Yahoo', cachestalltime=0)\n",
      "ls_symbols = dataobj.get_symbols_from_list('sp5002012')\n",
      "ls_symbols.append('SPY')"
     ],
     "language": "python",
     "metadata": {},
     "outputs": [],
     "prompt_number": 3
    },
    {
     "cell_type": "code",
     "collapsed": false,
     "input": [
      "ls_keys = ['open', 'high', 'low', 'close', 'volume', 'actual_close']\n",
      "ldf_data = dataobj.get_data(ldt_timestamps, ls_symbols, ls_keys)\n",
      "d_data = dict(zip(ls_keys, ldf_data))"
     ],
     "language": "python",
     "metadata": {},
     "outputs": [],
     "prompt_number": 4
    },
    {
     "cell_type": "code",
     "collapsed": false,
     "input": [
      "for s_key in ls_keys:\n",
      "    d_data[s_key] = d_data[s_key].fillna(method='ffill')\n",
      "    d_data[s_key] = d_data[s_key].fillna(method='bfill')\n",
      "    d_data[s_key] = d_data[s_key].fillna(1.0)"
     ],
     "language": "python",
     "metadata": {},
     "outputs": [],
     "prompt_number": 5
    },
    {
     "cell_type": "code",
     "collapsed": false,
     "input": [
      "def find_events(ls_symbols, d_data):\n",
      "    ''' Finding the event dataframe '''\n",
      "    df_close = d_data['close']\n",
      "    ts_market = df_close['SPY']\n",
      "    \n",
      "    print \"Finding Events\"\n",
      "\n",
      "    # Creating an empty dataframe\n",
      "    df_events = copy.deepcopy(df_close)\n",
      "    df_events = df_events * np.NAN\n",
      "\n",
      "    # Time stamps for the event range\n",
      "    ldt_timestamps = df_close.index\n",
      "\n",
      "    for s_sym in ls_symbols:\n",
      "        for i in range(1, len(ldt_timestamps)):\n",
      "            # Calculating the returns for this timestamp\n",
      "            f_symprice_today = df_close[s_sym].ix[ldt_timestamps[i]]\n",
      "            f_symprice_yest = df_close[s_sym].ix[ldt_timestamps[i - 1]]\n",
      "            #f_marketprice_today = ts_market.ix[ldt_timestamps[i]]\n",
      "            #f_marketprice_yest = ts_market.ix[ldt_timestamps[i - 1]]\n",
      "            #f_symreturn_today = (f_symprice_today / f_symprice_yest) - 1\n",
      "            #f_marketreturn_today = (f_marketprice_today / f_marketprice_yest) - 1\n",
      "\n",
      "            # Event is found if the symbol is down more then 3% while the\n",
      "            # market is up more then 2%\n",
      "            #if f_symreturn_today <= -0.03 and f_marketreturn_today >= 0.02:\n",
      "            if f_symprice_today < 6.0 and f_symprice_yest >=6.0:\n",
      "                df_events[s_sym].ix[ldt_timestamps[i]] = 1\n",
      "\n",
      "    return df_events"
     ],
     "language": "python",
     "metadata": {},
     "outputs": [],
     "prompt_number": 7
    },
    {
     "cell_type": "code",
     "collapsed": false,
     "input": [
      "df_events = find_events(ls_symbols, d_data)"
     ],
     "language": "python",
     "metadata": {},
     "outputs": [
      {
       "output_type": "stream",
       "stream": "stdout",
       "text": [
        "Finding Events\n"
       ]
      }
     ],
     "prompt_number": 8
    },
    {
     "cell_type": "code",
     "collapsed": false,
     "input": [
      "t = df_events.count()\n"
     ],
     "language": "python",
     "metadata": {},
     "outputs": [],
     "prompt_number": 9
    },
    {
     "cell_type": "code",
     "collapsed": false,
     "input": [
      "t.sum()"
     ],
     "language": "python",
     "metadata": {},
     "outputs": [
      {
       "metadata": {},
       "output_type": "pyout",
       "prompt_number": 10,
       "text": [
        "4"
       ]
      }
     ],
     "prompt_number": 10
    },
    {
     "cell_type": "code",
     "collapsed": false,
     "input": [
      "ep.eventprofiler(df_events, d_data, i_lookback=20, i_lookforward=20,\n",
      "                s_filename='MyEventStudy6.pdf', b_market_neutral=True, b_errorbars=True,\n",
      "                s_market_sym='SPY')"
     ],
     "language": "python",
     "metadata": {},
     "outputs": [],
     "prompt_number": 49
    },
    {
     "cell_type": "code",
     "collapsed": false,
     "input": [
      "ep.eventprofiler(df_events, d_data)"
     ],
     "language": "python",
     "metadata": {},
     "outputs": [],
     "prompt_number": 33
    },
    {
     "cell_type": "code",
     "collapsed": false,
     "input": [],
     "language": "python",
     "metadata": {},
     "outputs": []
    }
   ],
   "metadata": {}
  }
 ]
}
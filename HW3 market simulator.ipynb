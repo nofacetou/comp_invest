{
 "metadata": {
  "name": "",
  "signature": "sha256:5d5b495de16e649f1e2279457355129c13d6081a571ed50dfbc49b31e34a3ff4"
 },
 "nbformat": 3,
 "nbformat_minor": 0,
 "worksheets": [
  {
   "cells": [
    {
     "cell_type": "code",
     "collapsed": false,
     "input": [
      "import pandas as pd\n",
      "import numpy as np\n",
      "import QSTK.qstkutil.qsdateutil as du\n",
      "import datetime as dt\n",
      "import QSTK.qstkutil.DataAccess as da\n",
      "import QSTK.qstkutil.tsutil as tsu\n",
      "import QSTK.qstkstudy.EventProfiler as ep"
     ],
     "language": "python",
     "metadata": {},
     "outputs": [],
     "prompt_number": 1
    },
    {
     "cell_type": "code",
     "collapsed": false,
     "input": [
      "order = pd.read_csv(\"orders2 (1).csv\", header=None, parse_dates = {'date': [0,1,2]})"
     ],
     "language": "python",
     "metadata": {},
     "outputs": [],
     "prompt_number": 2
    },
    {
     "cell_type": "code",
     "collapsed": false,
     "input": [
      "order"
     ],
     "language": "python",
     "metadata": {},
     "outputs": [
      {
       "html": [
        "<div style=\"max-height:1000px;max-width:1500px;overflow:auto;\">\n",
        "<table border=\"1\" class=\"dataframe\">\n",
        "  <thead>\n",
        "    <tr style=\"text-align: right;\">\n",
        "      <th></th>\n",
        "      <th>date</th>\n",
        "      <th>3</th>\n",
        "      <th>4</th>\n",
        "      <th>5</th>\n",
        "      <th>6</th>\n",
        "    </tr>\n",
        "  </thead>\n",
        "  <tbody>\n",
        "    <tr>\n",
        "      <th>0 </th>\n",
        "      <td>2011-01-14</td>\n",
        "      <td> AAPL</td>\n",
        "      <td>  Buy</td>\n",
        "      <td> 1500</td>\n",
        "      <td>NaN</td>\n",
        "    </tr>\n",
        "    <tr>\n",
        "      <th>1 </th>\n",
        "      <td>2011-01-19</td>\n",
        "      <td> AAPL</td>\n",
        "      <td> Sell</td>\n",
        "      <td> 1500</td>\n",
        "      <td>NaN</td>\n",
        "    </tr>\n",
        "    <tr>\n",
        "      <th>2 </th>\n",
        "      <td>2011-01-19</td>\n",
        "      <td>  IBM</td>\n",
        "      <td>  Buy</td>\n",
        "      <td> 4000</td>\n",
        "      <td>NaN</td>\n",
        "    </tr>\n",
        "    <tr>\n",
        "      <th>3 </th>\n",
        "      <td>2011-01-31</td>\n",
        "      <td> GOOG</td>\n",
        "      <td>  Buy</td>\n",
        "      <td> 1000</td>\n",
        "      <td>NaN</td>\n",
        "    </tr>\n",
        "    <tr>\n",
        "      <th>4 </th>\n",
        "      <td>2011-02-04</td>\n",
        "      <td>  XOM</td>\n",
        "      <td> Sell</td>\n",
        "      <td> 4000</td>\n",
        "      <td>NaN</td>\n",
        "    </tr>\n",
        "    <tr>\n",
        "      <th>5 </th>\n",
        "      <td>2011-02-11</td>\n",
        "      <td>  XOM</td>\n",
        "      <td>  Buy</td>\n",
        "      <td> 4000</td>\n",
        "      <td>NaN</td>\n",
        "    </tr>\n",
        "    <tr>\n",
        "      <th>6 </th>\n",
        "      <td>2011-03-02</td>\n",
        "      <td> GOOG</td>\n",
        "      <td> Sell</td>\n",
        "      <td> 1000</td>\n",
        "      <td>NaN</td>\n",
        "    </tr>\n",
        "    <tr>\n",
        "      <th>7 </th>\n",
        "      <td>2011-03-02</td>\n",
        "      <td>  IBM</td>\n",
        "      <td> Sell</td>\n",
        "      <td> 2200</td>\n",
        "      <td>NaN</td>\n",
        "    </tr>\n",
        "    <tr>\n",
        "      <th>8 </th>\n",
        "      <td>2011-06-02</td>\n",
        "      <td>  IBM</td>\n",
        "      <td> Sell</td>\n",
        "      <td> 3300</td>\n",
        "      <td>NaN</td>\n",
        "    </tr>\n",
        "    <tr>\n",
        "      <th>9 </th>\n",
        "      <td>2011-05-23</td>\n",
        "      <td>  IBM</td>\n",
        "      <td>  Buy</td>\n",
        "      <td> 1500</td>\n",
        "      <td>NaN</td>\n",
        "    </tr>\n",
        "    <tr>\n",
        "      <th>10</th>\n",
        "      <td>2011-06-10</td>\n",
        "      <td> AAPL</td>\n",
        "      <td>  Buy</td>\n",
        "      <td> 1200</td>\n",
        "      <td>NaN</td>\n",
        "    </tr>\n",
        "    <tr>\n",
        "      <th>11</th>\n",
        "      <td>2011-08-09</td>\n",
        "      <td> GOOG</td>\n",
        "      <td>  Buy</td>\n",
        "      <td>   55</td>\n",
        "      <td>NaN</td>\n",
        "    </tr>\n",
        "    <tr>\n",
        "      <th>12</th>\n",
        "      <td>2011-08-11</td>\n",
        "      <td> GOOG</td>\n",
        "      <td> Sell</td>\n",
        "      <td>   55</td>\n",
        "      <td>NaN</td>\n",
        "    </tr>\n",
        "    <tr>\n",
        "      <th>13</th>\n",
        "      <td>2011-12-14</td>\n",
        "      <td> AAPL</td>\n",
        "      <td> Sell</td>\n",
        "      <td> 1200</td>\n",
        "      <td>NaN</td>\n",
        "    </tr>\n",
        "  </tbody>\n",
        "</table>\n",
        "<p>14 rows \u00d7 5 columns</p>\n",
        "</div>"
       ],
       "metadata": {},
       "output_type": "pyout",
       "prompt_number": 3,
       "text": [
        "         date     3     4     5   6\n",
        "0  2011-01-14  AAPL   Buy  1500 NaN\n",
        "1  2011-01-19  AAPL  Sell  1500 NaN\n",
        "2  2011-01-19   IBM   Buy  4000 NaN\n",
        "3  2011-01-31  GOOG   Buy  1000 NaN\n",
        "4  2011-02-04   XOM  Sell  4000 NaN\n",
        "5  2011-02-11   XOM   Buy  4000 NaN\n",
        "6  2011-03-02  GOOG  Sell  1000 NaN\n",
        "7  2011-03-02   IBM  Sell  2200 NaN\n",
        "8  2011-06-02   IBM  Sell  3300 NaN\n",
        "9  2011-05-23   IBM   Buy  1500 NaN\n",
        "10 2011-06-10  AAPL   Buy  1200 NaN\n",
        "11 2011-08-09  GOOG   Buy    55 NaN\n",
        "12 2011-08-11  GOOG  Sell    55 NaN\n",
        "13 2011-12-14  AAPL  Sell  1200 NaN\n",
        "\n",
        "[14 rows x 5 columns]"
       ]
      }
     ],
     "prompt_number": 3
    },
    {
     "cell_type": "code",
     "collapsed": false,
     "input": [
      "order['date'].max()"
     ],
     "language": "python",
     "metadata": {},
     "outputs": [
      {
       "metadata": {},
       "output_type": "pyout",
       "prompt_number": 4,
       "text": [
        "Timestamp('2011-12-14 00:00:00', tz=None)"
       ]
      }
     ],
     "prompt_number": 4
    },
    {
     "cell_type": "code",
     "collapsed": false,
     "input": [
      "# df1[\"nr_shares\"] = df1.apply(lambda row: row[\"nr_shares\"] * (-1 if row[\"transaction\"] == \"Sell\" else 1), axis=1)\n",
      "order['trade'] = np.where(order[4]=='Sell', -order[5], order[5])\n",
      "order_clean = order.set_index(order['date'])[['date',3,'trade']]\n",
      "order_clean.rename(columns={3:'symbol'}, inplace=True)\n",
      "#order_clean.set_index(['date', 'symbol']).unstack('symbol')\n",
      "order1 = pd.pivot_table(order_clean,values='trade',cols='symbol',rows='date',aggfunc=np.sum)\n",
      "order1"
     ],
     "language": "python",
     "metadata": {},
     "outputs": [
      {
       "html": [
        "<div style=\"max-height:1000px;max-width:1500px;overflow:auto;\">\n",
        "<table border=\"1\" class=\"dataframe\">\n",
        "  <thead>\n",
        "    <tr style=\"text-align: right;\">\n",
        "      <th>symbol</th>\n",
        "      <th>AAPL</th>\n",
        "      <th>GOOG</th>\n",
        "      <th>IBM</th>\n",
        "      <th>XOM</th>\n",
        "    </tr>\n",
        "    <tr>\n",
        "      <th>date</th>\n",
        "      <th></th>\n",
        "      <th></th>\n",
        "      <th></th>\n",
        "      <th></th>\n",
        "    </tr>\n",
        "  </thead>\n",
        "  <tbody>\n",
        "    <tr>\n",
        "      <th>2011-01-14</th>\n",
        "      <td> 1500</td>\n",
        "      <td>  NaN</td>\n",
        "      <td>  NaN</td>\n",
        "      <td>  NaN</td>\n",
        "    </tr>\n",
        "    <tr>\n",
        "      <th>2011-01-19</th>\n",
        "      <td>-1500</td>\n",
        "      <td>  NaN</td>\n",
        "      <td> 4000</td>\n",
        "      <td>  NaN</td>\n",
        "    </tr>\n",
        "    <tr>\n",
        "      <th>2011-01-31</th>\n",
        "      <td>  NaN</td>\n",
        "      <td> 1000</td>\n",
        "      <td>  NaN</td>\n",
        "      <td>  NaN</td>\n",
        "    </tr>\n",
        "    <tr>\n",
        "      <th>2011-02-04</th>\n",
        "      <td>  NaN</td>\n",
        "      <td>  NaN</td>\n",
        "      <td>  NaN</td>\n",
        "      <td>-4000</td>\n",
        "    </tr>\n",
        "    <tr>\n",
        "      <th>2011-02-11</th>\n",
        "      <td>  NaN</td>\n",
        "      <td>  NaN</td>\n",
        "      <td>  NaN</td>\n",
        "      <td> 4000</td>\n",
        "    </tr>\n",
        "    <tr>\n",
        "      <th>2011-03-02</th>\n",
        "      <td>  NaN</td>\n",
        "      <td>-1000</td>\n",
        "      <td>-2200</td>\n",
        "      <td>  NaN</td>\n",
        "    </tr>\n",
        "    <tr>\n",
        "      <th>2011-05-23</th>\n",
        "      <td>  NaN</td>\n",
        "      <td>  NaN</td>\n",
        "      <td> 1500</td>\n",
        "      <td>  NaN</td>\n",
        "    </tr>\n",
        "    <tr>\n",
        "      <th>2011-06-02</th>\n",
        "      <td>  NaN</td>\n",
        "      <td>  NaN</td>\n",
        "      <td>-3300</td>\n",
        "      <td>  NaN</td>\n",
        "    </tr>\n",
        "    <tr>\n",
        "      <th>2011-06-10</th>\n",
        "      <td> 1200</td>\n",
        "      <td>  NaN</td>\n",
        "      <td>  NaN</td>\n",
        "      <td>  NaN</td>\n",
        "    </tr>\n",
        "    <tr>\n",
        "      <th>2011-08-09</th>\n",
        "      <td>  NaN</td>\n",
        "      <td>   55</td>\n",
        "      <td>  NaN</td>\n",
        "      <td>  NaN</td>\n",
        "    </tr>\n",
        "    <tr>\n",
        "      <th>2011-08-11</th>\n",
        "      <td>  NaN</td>\n",
        "      <td>  -55</td>\n",
        "      <td>  NaN</td>\n",
        "      <td>  NaN</td>\n",
        "    </tr>\n",
        "    <tr>\n",
        "      <th>2011-12-14</th>\n",
        "      <td>-1200</td>\n",
        "      <td>  NaN</td>\n",
        "      <td>  NaN</td>\n",
        "      <td>  NaN</td>\n",
        "    </tr>\n",
        "  </tbody>\n",
        "</table>\n",
        "<p>12 rows \u00d7 4 columns</p>\n",
        "</div>"
       ],
       "metadata": {},
       "output_type": "pyout",
       "prompt_number": 5,
       "text": [
        "symbol      AAPL  GOOG   IBM   XOM\n",
        "date                              \n",
        "2011-01-14  1500   NaN   NaN   NaN\n",
        "2011-01-19 -1500   NaN  4000   NaN\n",
        "2011-01-31   NaN  1000   NaN   NaN\n",
        "2011-02-04   NaN   NaN   NaN -4000\n",
        "2011-02-11   NaN   NaN   NaN  4000\n",
        "2011-03-02   NaN -1000 -2200   NaN\n",
        "2011-05-23   NaN   NaN  1500   NaN\n",
        "2011-06-02   NaN   NaN -3300   NaN\n",
        "2011-06-10  1200   NaN   NaN   NaN\n",
        "2011-08-09   NaN    55   NaN   NaN\n",
        "2011-08-11   NaN   -55   NaN   NaN\n",
        "2011-12-14 -1200   NaN   NaN   NaN\n",
        "\n",
        "[12 rows x 4 columns]"
       ]
      }
     ],
     "prompt_number": 5
    },
    {
     "cell_type": "code",
     "collapsed": false,
     "input": [
      "dt_start = order['date'].min()\n",
      "dt_last = order['date'].max()\n",
      "dt_end_read = dt_last + dt.timedelta(days=1)"
     ],
     "language": "python",
     "metadata": {},
     "outputs": [],
     "prompt_number": 6
    },
    {
     "cell_type": "code",
     "collapsed": false,
     "input": [
      "ls_symbols = order[3].unique()"
     ],
     "language": "python",
     "metadata": {},
     "outputs": [],
     "prompt_number": 7
    },
    {
     "cell_type": "code",
     "collapsed": false,
     "input": [
      "ls_symbols"
     ],
     "language": "python",
     "metadata": {},
     "outputs": [
      {
       "metadata": {},
       "output_type": "pyout",
       "prompt_number": 8,
       "text": [
        "array(['AAPL', 'IBM', 'GOOG', 'XOM'], dtype=object)"
       ]
      }
     ],
     "prompt_number": 8
    },
    {
     "cell_type": "code",
     "collapsed": false,
     "input": [
      "#date = pd.date_range(pd.DatetimeIndex(dt_start)[0], pd.DatetimeIndex(dt_end_read)[0])\n",
      "date = pd.date_range(dt_start, dt_end_read)\n",
      "date "
     ],
     "language": "python",
     "metadata": {},
     "outputs": [
      {
       "metadata": {},
       "output_type": "pyout",
       "prompt_number": 13,
       "text": [
        "<class 'pandas.tseries.index.DatetimeIndex'>\n",
        "[2011-01-14, ..., 2011-12-15]\n",
        "Length: 336, Freq: D, Timezone: None"
       ]
      }
     ],
     "prompt_number": 13
    },
    {
     "cell_type": "code",
     "collapsed": false,
     "input": [
      "df_trade = pd.DataFrame(index = date, columns = ls_symbols)\n",
      "df_trade = df_trade.fillna(0)\n",
      "df_trade.columns.name='symbol'\n",
      "df_trade.index.name='date'\n",
      "\n"
     ],
     "language": "python",
     "metadata": {},
     "outputs": [],
     "prompt_number": 17
    },
    {
     "cell_type": "code",
     "collapsed": false,
     "input": [
      "\n",
      "df_trade.update(order1)\n",
      "df_trade"
     ],
     "language": "python",
     "metadata": {},
     "outputs": [
      {
       "html": [
        "<div style=\"max-height:1000px;max-width:1500px;overflow:auto;\">\n",
        "<table border=\"1\" class=\"dataframe\">\n",
        "  <thead>\n",
        "    <tr style=\"text-align: right;\">\n",
        "      <th>symbol</th>\n",
        "      <th>AAPL</th>\n",
        "      <th>IBM</th>\n",
        "      <th>GOOG</th>\n",
        "      <th>XOM</th>\n",
        "    </tr>\n",
        "  </thead>\n",
        "  <tbody>\n",
        "    <tr>\n",
        "      <th>2011-01-14 16:00:00</th>\n",
        "      <td> 1500</td>\n",
        "      <td>    0</td>\n",
        "      <td>    0</td>\n",
        "      <td>    0</td>\n",
        "    </tr>\n",
        "    <tr>\n",
        "      <th>2011-01-15 16:00:00</th>\n",
        "      <td>    0</td>\n",
        "      <td>    0</td>\n",
        "      <td>    0</td>\n",
        "      <td>    0</td>\n",
        "    </tr>\n",
        "    <tr>\n",
        "      <th>2011-01-16 16:00:00</th>\n",
        "      <td>    0</td>\n",
        "      <td>    0</td>\n",
        "      <td>    0</td>\n",
        "      <td>    0</td>\n",
        "    </tr>\n",
        "    <tr>\n",
        "      <th>2011-01-17 16:00:00</th>\n",
        "      <td>    0</td>\n",
        "      <td>    0</td>\n",
        "      <td>    0</td>\n",
        "      <td>    0</td>\n",
        "    </tr>\n",
        "    <tr>\n",
        "      <th>2011-01-18 16:00:00</th>\n",
        "      <td>    0</td>\n",
        "      <td>    0</td>\n",
        "      <td>    0</td>\n",
        "      <td>    0</td>\n",
        "    </tr>\n",
        "    <tr>\n",
        "      <th>2011-01-19 16:00:00</th>\n",
        "      <td>-1500</td>\n",
        "      <td> 4000</td>\n",
        "      <td>    0</td>\n",
        "      <td>    0</td>\n",
        "    </tr>\n",
        "    <tr>\n",
        "      <th>2011-01-20 16:00:00</th>\n",
        "      <td>    0</td>\n",
        "      <td>    0</td>\n",
        "      <td>    0</td>\n",
        "      <td>    0</td>\n",
        "    </tr>\n",
        "    <tr>\n",
        "      <th>2011-01-21 16:00:00</th>\n",
        "      <td>    0</td>\n",
        "      <td>    0</td>\n",
        "      <td>    0</td>\n",
        "      <td>    0</td>\n",
        "    </tr>\n",
        "    <tr>\n",
        "      <th>2011-01-22 16:00:00</th>\n",
        "      <td>    0</td>\n",
        "      <td>    0</td>\n",
        "      <td>    0</td>\n",
        "      <td>    0</td>\n",
        "    </tr>\n",
        "    <tr>\n",
        "      <th>2011-01-23 16:00:00</th>\n",
        "      <td>    0</td>\n",
        "      <td>    0</td>\n",
        "      <td>    0</td>\n",
        "      <td>    0</td>\n",
        "    </tr>\n",
        "    <tr>\n",
        "      <th>2011-01-24 16:00:00</th>\n",
        "      <td>    0</td>\n",
        "      <td>    0</td>\n",
        "      <td>    0</td>\n",
        "      <td>    0</td>\n",
        "    </tr>\n",
        "    <tr>\n",
        "      <th>2011-01-25 16:00:00</th>\n",
        "      <td>    0</td>\n",
        "      <td>    0</td>\n",
        "      <td>    0</td>\n",
        "      <td>    0</td>\n",
        "    </tr>\n",
        "    <tr>\n",
        "      <th>2011-01-26 16:00:00</th>\n",
        "      <td>    0</td>\n",
        "      <td>    0</td>\n",
        "      <td>    0</td>\n",
        "      <td>    0</td>\n",
        "    </tr>\n",
        "    <tr>\n",
        "      <th>2011-01-27 16:00:00</th>\n",
        "      <td>    0</td>\n",
        "      <td>    0</td>\n",
        "      <td>    0</td>\n",
        "      <td>    0</td>\n",
        "    </tr>\n",
        "    <tr>\n",
        "      <th>2011-01-28 16:00:00</th>\n",
        "      <td>    0</td>\n",
        "      <td>    0</td>\n",
        "      <td>    0</td>\n",
        "      <td>    0</td>\n",
        "    </tr>\n",
        "    <tr>\n",
        "      <th>2011-01-29 16:00:00</th>\n",
        "      <td>    0</td>\n",
        "      <td>    0</td>\n",
        "      <td>    0</td>\n",
        "      <td>    0</td>\n",
        "    </tr>\n",
        "    <tr>\n",
        "      <th>2011-01-30 16:00:00</th>\n",
        "      <td>    0</td>\n",
        "      <td>    0</td>\n",
        "      <td>    0</td>\n",
        "      <td>    0</td>\n",
        "    </tr>\n",
        "    <tr>\n",
        "      <th>2011-01-31 16:00:00</th>\n",
        "      <td>    0</td>\n",
        "      <td>    0</td>\n",
        "      <td> 1000</td>\n",
        "      <td>    0</td>\n",
        "    </tr>\n",
        "    <tr>\n",
        "      <th>2011-02-01 16:00:00</th>\n",
        "      <td>    0</td>\n",
        "      <td>    0</td>\n",
        "      <td>    0</td>\n",
        "      <td>    0</td>\n",
        "    </tr>\n",
        "    <tr>\n",
        "      <th>2011-02-02 16:00:00</th>\n",
        "      <td>    0</td>\n",
        "      <td>    0</td>\n",
        "      <td>    0</td>\n",
        "      <td>    0</td>\n",
        "    </tr>\n",
        "    <tr>\n",
        "      <th>2011-02-03 16:00:00</th>\n",
        "      <td>    0</td>\n",
        "      <td>    0</td>\n",
        "      <td>    0</td>\n",
        "      <td>    0</td>\n",
        "    </tr>\n",
        "    <tr>\n",
        "      <th>2011-02-04 16:00:00</th>\n",
        "      <td>    0</td>\n",
        "      <td>    0</td>\n",
        "      <td>    0</td>\n",
        "      <td>-4000</td>\n",
        "    </tr>\n",
        "    <tr>\n",
        "      <th>2011-02-05 16:00:00</th>\n",
        "      <td>    0</td>\n",
        "      <td>    0</td>\n",
        "      <td>    0</td>\n",
        "      <td>    0</td>\n",
        "    </tr>\n",
        "    <tr>\n",
        "      <th>2011-02-06 16:00:00</th>\n",
        "      <td>    0</td>\n",
        "      <td>    0</td>\n",
        "      <td>    0</td>\n",
        "      <td>    0</td>\n",
        "    </tr>\n",
        "    <tr>\n",
        "      <th>2011-02-07 16:00:00</th>\n",
        "      <td>    0</td>\n",
        "      <td>    0</td>\n",
        "      <td>    0</td>\n",
        "      <td>    0</td>\n",
        "    </tr>\n",
        "    <tr>\n",
        "      <th>2011-02-08 16:00:00</th>\n",
        "      <td>    0</td>\n",
        "      <td>    0</td>\n",
        "      <td>    0</td>\n",
        "      <td>    0</td>\n",
        "    </tr>\n",
        "    <tr>\n",
        "      <th>2011-02-09 16:00:00</th>\n",
        "      <td>    0</td>\n",
        "      <td>    0</td>\n",
        "      <td>    0</td>\n",
        "      <td>    0</td>\n",
        "    </tr>\n",
        "    <tr>\n",
        "      <th>2011-02-10 16:00:00</th>\n",
        "      <td>    0</td>\n",
        "      <td>    0</td>\n",
        "      <td>    0</td>\n",
        "      <td>    0</td>\n",
        "    </tr>\n",
        "    <tr>\n",
        "      <th>2011-02-11 16:00:00</th>\n",
        "      <td>    0</td>\n",
        "      <td>    0</td>\n",
        "      <td>    0</td>\n",
        "      <td> 4000</td>\n",
        "    </tr>\n",
        "    <tr>\n",
        "      <th>2011-02-12 16:00:00</th>\n",
        "      <td>    0</td>\n",
        "      <td>    0</td>\n",
        "      <td>    0</td>\n",
        "      <td>    0</td>\n",
        "    </tr>\n",
        "    <tr>\n",
        "      <th>2011-02-13 16:00:00</th>\n",
        "      <td>    0</td>\n",
        "      <td>    0</td>\n",
        "      <td>    0</td>\n",
        "      <td>    0</td>\n",
        "    </tr>\n",
        "    <tr>\n",
        "      <th>2011-02-14 16:00:00</th>\n",
        "      <td>    0</td>\n",
        "      <td>    0</td>\n",
        "      <td>    0</td>\n",
        "      <td>    0</td>\n",
        "    </tr>\n",
        "    <tr>\n",
        "      <th>2011-02-15 16:00:00</th>\n",
        "      <td>    0</td>\n",
        "      <td>    0</td>\n",
        "      <td>    0</td>\n",
        "      <td>    0</td>\n",
        "    </tr>\n",
        "    <tr>\n",
        "      <th>2011-02-16 16:00:00</th>\n",
        "      <td>    0</td>\n",
        "      <td>    0</td>\n",
        "      <td>    0</td>\n",
        "      <td>    0</td>\n",
        "    </tr>\n",
        "    <tr>\n",
        "      <th>2011-02-17 16:00:00</th>\n",
        "      <td>    0</td>\n",
        "      <td>    0</td>\n",
        "      <td>    0</td>\n",
        "      <td>    0</td>\n",
        "    </tr>\n",
        "    <tr>\n",
        "      <th>2011-02-18 16:00:00</th>\n",
        "      <td>    0</td>\n",
        "      <td>    0</td>\n",
        "      <td>    0</td>\n",
        "      <td>    0</td>\n",
        "    </tr>\n",
        "    <tr>\n",
        "      <th>2011-02-19 16:00:00</th>\n",
        "      <td>    0</td>\n",
        "      <td>    0</td>\n",
        "      <td>    0</td>\n",
        "      <td>    0</td>\n",
        "    </tr>\n",
        "    <tr>\n",
        "      <th>2011-02-20 16:00:00</th>\n",
        "      <td>    0</td>\n",
        "      <td>    0</td>\n",
        "      <td>    0</td>\n",
        "      <td>    0</td>\n",
        "    </tr>\n",
        "    <tr>\n",
        "      <th>2011-02-21 16:00:00</th>\n",
        "      <td>    0</td>\n",
        "      <td>    0</td>\n",
        "      <td>    0</td>\n",
        "      <td>    0</td>\n",
        "    </tr>\n",
        "    <tr>\n",
        "      <th>2011-02-22 16:00:00</th>\n",
        "      <td>    0</td>\n",
        "      <td>    0</td>\n",
        "      <td>    0</td>\n",
        "      <td>    0</td>\n",
        "    </tr>\n",
        "    <tr>\n",
        "      <th>2011-02-23 16:00:00</th>\n",
        "      <td>    0</td>\n",
        "      <td>    0</td>\n",
        "      <td>    0</td>\n",
        "      <td>    0</td>\n",
        "    </tr>\n",
        "    <tr>\n",
        "      <th>2011-02-24 16:00:00</th>\n",
        "      <td>    0</td>\n",
        "      <td>    0</td>\n",
        "      <td>    0</td>\n",
        "      <td>    0</td>\n",
        "    </tr>\n",
        "    <tr>\n",
        "      <th>2011-02-25 16:00:00</th>\n",
        "      <td>    0</td>\n",
        "      <td>    0</td>\n",
        "      <td>    0</td>\n",
        "      <td>    0</td>\n",
        "    </tr>\n",
        "    <tr>\n",
        "      <th>2011-02-26 16:00:00</th>\n",
        "      <td>    0</td>\n",
        "      <td>    0</td>\n",
        "      <td>    0</td>\n",
        "      <td>    0</td>\n",
        "    </tr>\n",
        "    <tr>\n",
        "      <th>2011-02-27 16:00:00</th>\n",
        "      <td>    0</td>\n",
        "      <td>    0</td>\n",
        "      <td>    0</td>\n",
        "      <td>    0</td>\n",
        "    </tr>\n",
        "    <tr>\n",
        "      <th>2011-02-28 16:00:00</th>\n",
        "      <td>    0</td>\n",
        "      <td>    0</td>\n",
        "      <td>    0</td>\n",
        "      <td>    0</td>\n",
        "    </tr>\n",
        "    <tr>\n",
        "      <th>2011-03-01 16:00:00</th>\n",
        "      <td>    0</td>\n",
        "      <td>    0</td>\n",
        "      <td>    0</td>\n",
        "      <td>    0</td>\n",
        "    </tr>\n",
        "    <tr>\n",
        "      <th>2011-03-02 16:00:00</th>\n",
        "      <td>    0</td>\n",
        "      <td>-2200</td>\n",
        "      <td>-1000</td>\n",
        "      <td>    0</td>\n",
        "    </tr>\n",
        "    <tr>\n",
        "      <th>2011-03-03 16:00:00</th>\n",
        "      <td>    0</td>\n",
        "      <td>    0</td>\n",
        "      <td>    0</td>\n",
        "      <td>    0</td>\n",
        "    </tr>\n",
        "    <tr>\n",
        "      <th>2011-03-04 16:00:00</th>\n",
        "      <td>    0</td>\n",
        "      <td>    0</td>\n",
        "      <td>    0</td>\n",
        "      <td>    0</td>\n",
        "    </tr>\n",
        "    <tr>\n",
        "      <th>2011-03-05 16:00:00</th>\n",
        "      <td>    0</td>\n",
        "      <td>    0</td>\n",
        "      <td>    0</td>\n",
        "      <td>    0</td>\n",
        "    </tr>\n",
        "    <tr>\n",
        "      <th>2011-03-06 16:00:00</th>\n",
        "      <td>    0</td>\n",
        "      <td>    0</td>\n",
        "      <td>    0</td>\n",
        "      <td>    0</td>\n",
        "    </tr>\n",
        "    <tr>\n",
        "      <th>2011-03-07 16:00:00</th>\n",
        "      <td>    0</td>\n",
        "      <td>    0</td>\n",
        "      <td>    0</td>\n",
        "      <td>    0</td>\n",
        "    </tr>\n",
        "    <tr>\n",
        "      <th>2011-03-08 16:00:00</th>\n",
        "      <td>    0</td>\n",
        "      <td>    0</td>\n",
        "      <td>    0</td>\n",
        "      <td>    0</td>\n",
        "    </tr>\n",
        "    <tr>\n",
        "      <th>2011-03-09 16:00:00</th>\n",
        "      <td>    0</td>\n",
        "      <td>    0</td>\n",
        "      <td>    0</td>\n",
        "      <td>    0</td>\n",
        "    </tr>\n",
        "    <tr>\n",
        "      <th>2011-03-10 16:00:00</th>\n",
        "      <td>    0</td>\n",
        "      <td>    0</td>\n",
        "      <td>    0</td>\n",
        "      <td>    0</td>\n",
        "    </tr>\n",
        "    <tr>\n",
        "      <th>2011-03-11 16:00:00</th>\n",
        "      <td>    0</td>\n",
        "      <td>    0</td>\n",
        "      <td>    0</td>\n",
        "      <td>    0</td>\n",
        "    </tr>\n",
        "    <tr>\n",
        "      <th>2011-03-12 16:00:00</th>\n",
        "      <td>    0</td>\n",
        "      <td>    0</td>\n",
        "      <td>    0</td>\n",
        "      <td>    0</td>\n",
        "    </tr>\n",
        "    <tr>\n",
        "      <th>2011-03-13 16:00:00</th>\n",
        "      <td>    0</td>\n",
        "      <td>    0</td>\n",
        "      <td>    0</td>\n",
        "      <td>    0</td>\n",
        "    </tr>\n",
        "    <tr>\n",
        "      <th>2011-03-14 16:00:00</th>\n",
        "      <td>    0</td>\n",
        "      <td>    0</td>\n",
        "      <td>    0</td>\n",
        "      <td>    0</td>\n",
        "    </tr>\n",
        "    <tr>\n",
        "      <th></th>\n",
        "      <td>...</td>\n",
        "      <td>...</td>\n",
        "      <td>...</td>\n",
        "      <td>...</td>\n",
        "    </tr>\n",
        "  </tbody>\n",
        "</table>\n",
        "<p>336 rows \u00d7 4 columns</p>\n",
        "</div>"
       ],
       "metadata": {},
       "output_type": "pyout",
       "prompt_number": 25,
       "text": [
        "symbol               AAPL   IBM  GOOG   XOM\n",
        "2011-01-14 16:00:00  1500     0     0     0\n",
        "2011-01-15 16:00:00     0     0     0     0\n",
        "2011-01-16 16:00:00     0     0     0     0\n",
        "2011-01-17 16:00:00     0     0     0     0\n",
        "2011-01-18 16:00:00     0     0     0     0\n",
        "2011-01-19 16:00:00 -1500  4000     0     0\n",
        "2011-01-20 16:00:00     0     0     0     0\n",
        "2011-01-21 16:00:00     0     0     0     0\n",
        "2011-01-22 16:00:00     0     0     0     0\n",
        "2011-01-23 16:00:00     0     0     0     0\n",
        "2011-01-24 16:00:00     0     0     0     0\n",
        "2011-01-25 16:00:00     0     0     0     0\n",
        "2011-01-26 16:00:00     0     0     0     0\n",
        "2011-01-27 16:00:00     0     0     0     0\n",
        "2011-01-28 16:00:00     0     0     0     0\n",
        "2011-01-29 16:00:00     0     0     0     0\n",
        "2011-01-30 16:00:00     0     0     0     0\n",
        "2011-01-31 16:00:00     0     0  1000     0\n",
        "2011-02-01 16:00:00     0     0     0     0\n",
        "2011-02-02 16:00:00     0     0     0     0\n",
        "2011-02-03 16:00:00     0     0     0     0\n",
        "2011-02-04 16:00:00     0     0     0 -4000\n",
        "2011-02-05 16:00:00     0     0     0     0\n",
        "2011-02-06 16:00:00     0     0     0     0\n",
        "2011-02-07 16:00:00     0     0     0     0\n",
        "2011-02-08 16:00:00     0     0     0     0\n",
        "2011-02-09 16:00:00     0     0     0     0\n",
        "2011-02-10 16:00:00     0     0     0     0\n",
        "2011-02-11 16:00:00     0     0     0  4000\n",
        "2011-02-12 16:00:00     0     0     0     0\n",
        "2011-02-13 16:00:00     0     0     0     0\n",
        "2011-02-14 16:00:00     0     0     0     0\n",
        "2011-02-15 16:00:00     0     0     0     0\n",
        "2011-02-16 16:00:00     0     0     0     0\n",
        "2011-02-17 16:00:00     0     0     0     0\n",
        "2011-02-18 16:00:00     0     0     0     0\n",
        "2011-02-19 16:00:00     0     0     0     0\n",
        "2011-02-20 16:00:00     0     0     0     0\n",
        "2011-02-21 16:00:00     0     0     0     0\n",
        "2011-02-22 16:00:00     0     0     0     0\n",
        "2011-02-23 16:00:00     0     0     0     0\n",
        "2011-02-24 16:00:00     0     0     0     0\n",
        "2011-02-25 16:00:00     0     0     0     0\n",
        "2011-02-26 16:00:00     0     0     0     0\n",
        "2011-02-27 16:00:00     0     0     0     0\n",
        "2011-02-28 16:00:00     0     0     0     0\n",
        "2011-03-01 16:00:00     0     0     0     0\n",
        "2011-03-02 16:00:00     0 -2200 -1000     0\n",
        "2011-03-03 16:00:00     0     0     0     0\n",
        "2011-03-04 16:00:00     0     0     0     0\n",
        "2011-03-05 16:00:00     0     0     0     0\n",
        "2011-03-06 16:00:00     0     0     0     0\n",
        "2011-03-07 16:00:00     0     0     0     0\n",
        "2011-03-08 16:00:00     0     0     0     0\n",
        "2011-03-09 16:00:00     0     0     0     0\n",
        "2011-03-10 16:00:00     0     0     0     0\n",
        "2011-03-11 16:00:00     0     0     0     0\n",
        "2011-03-12 16:00:00     0     0     0     0\n",
        "2011-03-13 16:00:00     0     0     0     0\n",
        "2011-03-14 16:00:00     0     0     0     0\n",
        "                      ...   ...   ...   ...\n",
        "\n",
        "[336 rows x 4 columns]"
       ]
      }
     ],
     "prompt_number": 25
    },
    {
     "cell_type": "code",
     "collapsed": false,
     "input": [
      "#df_trade['date'] = df_trade.index.values\n",
      "df_trade.index = date + dt.timedelta(hours=16)\n",
      "df_holding = df_trade.cumsum(axis=0)\n",
      "#df_holding"
     ],
     "language": "python",
     "metadata": {},
     "outputs": [],
     "prompt_number": 19
    },
    {
     "cell_type": "code",
     "collapsed": false,
     "input": [
      "dt_timeofday = dt.timedelta(hours=16)\n",
      "ldt_timestamps = du.getNYSEdays(dt_start, dt_end_read, dt_timeofday)\n",
      "\n",
      "c_dataobj = da.DataAccess('Yahoo', cachestalltime=0)\n",
      "ls_keys = ['open', 'high', 'low', 'close', 'volume', 'actual_close']\n",
      "ldf_data = c_dataobj.get_data(ldt_timestamps, ls_symbols, ls_keys)\n",
      "\n",
      "d_data = dict(zip(ls_keys, ldf_data))\n",
      "na_price = d_data['close'].values\n",
      "\n",
      "df_price = pd.DataFrame(index = date, columns = ls_symbols)\n",
      "df_price.index = date + dt.timedelta(hours=16)\n",
      "d_price = pd.DataFrame(d_data['close'])\n",
      "df_price.update(d_price)\n",
      "df_price = df_price.fillna(method=('ffill'))\n",
      "#df_price"
     ],
     "language": "python",
     "metadata": {},
     "outputs": [],
     "prompt_number": 21
    },
    {
     "cell_type": "code",
     "collapsed": false,
     "input": [
      "df_cash=df_trade*df_price\n",
      "df_stock = df_holding*df_price"
     ],
     "language": "python",
     "metadata": {},
     "outputs": [],
     "prompt_number": 22
    },
    {
     "cell_type": "code",
     "collapsed": false,
     "input": [
      "capital = np.zeros(len(date)) \n",
      "capital[0] = 1000000 \n",
      "df_cashflow = df_cash.sum(axis=1)\n",
      "df_stock_holding = df_stock.sum(axis=1)\n",
      "df_cash_holding = capital - df_cashflow\n",
      "df_cash_holding"
     ],
     "language": "python",
     "metadata": {},
     "outputs": [
      {
       "metadata": {},
       "output_type": "pyout",
       "prompt_number": 26,
       "text": [
        "2011-01-14 16:00:00    479515\n",
        "2011-01-15 16:00:00         0\n",
        "2011-01-16 16:00:00         0\n",
        "2011-01-17 16:00:00         0\n",
        "2011-01-18 16:00:00         0\n",
        "2011-01-19 16:00:00    -98795\n",
        "2011-01-20 16:00:00         0\n",
        "2011-01-21 16:00:00         0\n",
        "2011-01-22 16:00:00         0\n",
        "2011-01-23 16:00:00         0\n",
        "2011-01-24 16:00:00         0\n",
        "2011-01-25 16:00:00         0\n",
        "2011-01-26 16:00:00         0\n",
        "2011-01-27 16:00:00         0\n",
        "2011-01-28 16:00:00         0\n",
        "...\n",
        "2011-12-01 16:00:00         0\n",
        "2011-12-02 16:00:00         0\n",
        "2011-12-03 16:00:00         0\n",
        "2011-12-04 16:00:00         0\n",
        "2011-12-05 16:00:00         0\n",
        "2011-12-06 16:00:00         0\n",
        "2011-12-07 16:00:00         0\n",
        "2011-12-08 16:00:00         0\n",
        "2011-12-09 16:00:00         0\n",
        "2011-12-10 16:00:00         0\n",
        "2011-12-11 16:00:00         0\n",
        "2011-12-12 16:00:00         0\n",
        "2011-12-13 16:00:00         0\n",
        "2011-12-14 16:00:00    454272\n",
        "2011-12-15 16:00:00         0\n",
        "Freq: D, Length: 336"
       ]
      }
     ],
     "prompt_number": 26
    },
    {
     "cell_type": "code",
     "collapsed": false,
     "input": [
      "df_cash_holding = df_cash_holding.cumsum(axis=0)\n",
      "df_cash_holding"
     ],
     "language": "python",
     "metadata": {},
     "outputs": [
      {
       "metadata": {},
       "output_type": "pyout",
       "prompt_number": 27,
       "text": [
        "2011-01-14 16:00:00    479515\n",
        "2011-01-15 16:00:00    479515\n",
        "2011-01-16 16:00:00    479515\n",
        "2011-01-17 16:00:00    479515\n",
        "2011-01-18 16:00:00    479515\n",
        "2011-01-19 16:00:00    380720\n",
        "2011-01-20 16:00:00    380720\n",
        "2011-01-21 16:00:00    380720\n",
        "2011-01-22 16:00:00    380720\n",
        "2011-01-23 16:00:00    380720\n",
        "2011-01-24 16:00:00    380720\n",
        "2011-01-25 16:00:00    380720\n",
        "2011-01-26 16:00:00    380720\n",
        "2011-01-27 16:00:00    380720\n",
        "2011-01-28 16:00:00    380720\n",
        "...\n",
        "2011-12-01 16:00:00     624480.6\n",
        "2011-12-02 16:00:00     624480.6\n",
        "2011-12-03 16:00:00     624480.6\n",
        "2011-12-04 16:00:00     624480.6\n",
        "2011-12-05 16:00:00     624480.6\n",
        "2011-12-06 16:00:00     624480.6\n",
        "2011-12-07 16:00:00     624480.6\n",
        "2011-12-08 16:00:00     624480.6\n",
        "2011-12-09 16:00:00     624480.6\n",
        "2011-12-10 16:00:00     624480.6\n",
        "2011-12-11 16:00:00     624480.6\n",
        "2011-12-12 16:00:00     624480.6\n",
        "2011-12-13 16:00:00     624480.6\n",
        "2011-12-14 16:00:00    1078752.6\n",
        "2011-12-15 16:00:00    1078752.6\n",
        "Freq: D, Length: 336"
       ]
      }
     ],
     "prompt_number": 27
    },
    {
     "cell_type": "code",
     "collapsed": false,
     "input": [
      "df_stock_holding"
     ],
     "language": "python",
     "metadata": {},
     "outputs": [
      {
       "metadata": {},
       "output_type": "pyout",
       "prompt_number": 28,
       "text": [
        "2011-01-14 16:00:00    520485\n",
        "2011-01-15 16:00:00    520485\n",
        "2011-01-16 16:00:00    520485\n",
        "2011-01-17 16:00:00    520485\n",
        "2011-01-18 16:00:00    508785\n",
        "2011-01-19 16:00:00    604880\n",
        "2011-01-20 16:00:00    605320\n",
        "2011-01-21 16:00:00    604160\n",
        "2011-01-22 16:00:00    604160\n",
        "2011-01-23 16:00:00    604160\n",
        "2011-01-24 16:00:00    620200\n",
        "2011-01-25 16:00:00    627240\n",
        "2011-01-26 16:00:00    625680\n",
        "2011-01-27 16:00:00    625800\n",
        "2011-01-28 16:00:00    618560\n",
        "...\n",
        "2011-12-01 16:00:00    463524\n",
        "2011-12-02 16:00:00    465636\n",
        "2011-12-03 16:00:00    465636\n",
        "2011-12-04 16:00:00    465636\n",
        "2011-12-05 16:00:00    469596\n",
        "2011-12-06 16:00:00    467136\n",
        "2011-12-07 16:00:00    464916\n",
        "2011-12-08 16:00:00    466788\n",
        "2011-12-09 16:00:00    470328\n",
        "2011-12-10 16:00:00    470328\n",
        "2011-12-11 16:00:00    470328\n",
        "2011-12-12 16:00:00    468192\n",
        "2011-12-13 16:00:00    464580\n",
        "2011-12-14 16:00:00         0\n",
        "2011-12-15 16:00:00         0\n",
        "Freq: D, Length: 336"
       ]
      }
     ],
     "prompt_number": 28
    },
    {
     "cell_type": "code",
     "collapsed": false,
     "input": [
      "df_values = df_stock_holding.add(df_cash_holding,fill_value=0)"
     ],
     "language": "python",
     "metadata": {},
     "outputs": [],
     "prompt_number": 29
    },
    {
     "cell_type": "code",
     "collapsed": false,
     "input": [
      "df_values[50:90]"
     ],
     "language": "python",
     "metadata": {},
     "outputs": [
      {
       "metadata": {},
       "output_type": "pyout",
       "prompt_number": 30,
       "text": [
        "2011-03-05 16:00:00    1008924\n",
        "2011-03-06 16:00:00    1008924\n",
        "2011-03-07 16:00:00    1005594\n",
        "2011-03-08 16:00:00    1009716\n",
        "2011-03-09 16:00:00    1015998\n",
        "2011-03-10 16:00:00    1009266\n",
        "2011-03-11 16:00:00    1009986\n",
        "2011-03-12 16:00:00    1009986\n",
        "2011-03-13 16:00:00    1009986\n",
        "2011-03-14 16:00:00    1008150\n",
        "2011-03-15 16:00:00    1003992\n",
        "2011-03-16 16:00:00     993426\n",
        "2011-03-17 16:00:00     995496\n",
        "2011-03-18 16:00:00     998502\n",
        "2011-03-19 16:00:00     998502\n",
        "2011-03-20 16:00:00     998502\n",
        "2011-03-21 16:00:00    1001634\n",
        "2011-03-22 16:00:00    1002210\n",
        "2011-03-23 16:00:00    1004892\n",
        "2011-03-24 16:00:00    1005792\n",
        "2011-03-25 16:00:00    1009536\n",
        "2011-03-26 16:00:00    1009536\n",
        "2011-03-27 16:00:00    1009536\n",
        "2011-03-28 16:00:00    1008114\n",
        "2011-03-29 16:00:00    1010778\n",
        "2011-03-30 16:00:00    1012038\n",
        "2011-03-31 16:00:00    1011102\n",
        "2011-04-01 16:00:00    1013208\n",
        "2011-04-02 16:00:00    1013208\n",
        "2011-04-03 16:00:00    1013208\n",
        "2011-04-04 16:00:00    1013172\n",
        "2011-04-05 16:00:00    1012722\n",
        "2011-04-06 16:00:00    1012812\n",
        "2011-04-07 16:00:00    1013406\n",
        "2011-04-08 16:00:00    1012830\n",
        "2011-04-09 16:00:00    1012830\n",
        "2011-04-10 16:00:00    1012830\n",
        "2011-04-11 16:00:00    1012650\n",
        "2011-04-12 16:00:00    1011426\n",
        "2011-04-13 16:00:00    1012650\n",
        "Freq: D, dtype: float64"
       ]
      }
     ],
     "prompt_number": 30
    },
    {
     "cell_type": "code",
     "collapsed": false,
     "input": [],
     "language": "python",
     "metadata": {},
     "outputs": []
    }
   ],
   "metadata": {}
  }
 ]
}
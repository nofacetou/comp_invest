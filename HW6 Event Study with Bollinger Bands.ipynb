{
 "metadata": {
  "name": "",
  "signature": "sha256:6b84bb6c798ef6f32721045080126d182e76b24cdb4064322539783c6314ef6f"
 },
 "nbformat": 3,
 "nbformat_minor": 0,
 "worksheets": [
  {
   "cells": [
    {
     "cell_type": "code",
     "collapsed": false,
     "input": [
      "import pandas as pd\n",
      "import numpy as np\n",
      "import copy\n",
      "import QSTK.qstkutil.qsdateutil as du\n",
      "import datetime as dt\n",
      "import QSTK.qstkutil.DataAccess as da\n",
      "import QSTK.qstkutil.tsutil as tsu\n",
      "import QSTK.qstkstudy.EventProfiler as ep\n",
      "import matplotlib.pyplot as plt\n",
      "%matplotlib inline"
     ],
     "language": "python",
     "metadata": {},
     "outputs": [],
     "prompt_number": 1
    },
    {
     "cell_type": "code",
     "collapsed": false,
     "input": [
      "dt_start = dt.datetime(2008, 1, 1)\n",
      "dt_end = dt.datetime(2009, 12, 31)\n",
      "timeofday=dt.timedelta(hours=16)\n",
      "ldt_timestamps = du.getNYSEdays(dt_start, dt_end, timeofday)\n",
      "ls_keys = ['open', 'high', 'low', 'close', 'volume', 'actual_close']\n",
      "dataobj = da.DataAccess('Yahoo', cachestalltime=0)\n",
      "ls_symbols = dataobj.get_symbols_from_list('sp5002012')\n",
      "ls_symbols.append('SPY')\n",
      "ldf_data = dataobj.get_data(ldt_timestamps, ls_symbols, ls_keys)\n",
      "d_data = dict(zip(ls_keys, ldf_data))"
     ],
     "language": "python",
     "metadata": {},
     "outputs": [],
     "prompt_number": 2
    },
    {
     "cell_type": "code",
     "collapsed": false,
     "input": [
      "for s_key in ls_keys:\n",
      "    d_data[s_key] = d_data[s_key].fillna(method='ffill')\n",
      "    d_data[s_key] = d_data[s_key].fillna(method='bfill')\n",
      "    d_data[s_key] = d_data[s_key].fillna(1.0)"
     ],
     "language": "python",
     "metadata": {},
     "outputs": [],
     "prompt_number": 3
    },
    {
     "cell_type": "code",
     "collapsed": false,
     "input": [
      "rolling_avg = pd.rolling_mean(d_data['close'],20,min_periods=20)\n",
      "rolling_std = pd.rolling_std(d_data['close'],20,min_periods=20)\n",
      "Bollinger_val = (d_data['close'] - rolling_avg)/rolling_std"
     ],
     "language": "python",
     "metadata": {},
     "outputs": [],
     "prompt_number": 4
    },
    {
     "cell_type": "code",
     "collapsed": false,
     "input": [
      "def find_event(ls_symbols, Bollinger_val):\n",
      "    ''' Finding the event dataframe '''\n",
      "    ts_market = Bollinger_val['SPY']\n",
      "    \n",
      "\n",
      "    print \"Finding Events\"\n",
      "\n",
      "    # Creating an empty dataframe\n",
      "    df_events = copy.deepcopy(Bollinger_val)\n",
      "    df_events = df_events * np.NAN\n",
      "    df_events = df_events.fillna(0)\n",
      "\n",
      "    # Time stamps for the event range\n",
      "    ldt_timestamps = Bollinger_val.index\n",
      "\n",
      "    for s_sym in ls_symbols:\n",
      "        for i in range(1, len(ldt_timestamps)):\n",
      "            #Bollinger value for the equity today <= -2.0\n",
      "            #Bollinger value for the equity yesterday >= -2.0\n",
      "            #Bollinger value for SPY today >= 1.0\n",
      "            f_symval_today = Bollinger_val[s_sym].ix[ldt_timestamps[i]]\n",
      "            f_symval_yest = Bollinger_val[s_sym].ix[ldt_timestamps[i - 1]]\n",
      "            f_marketval_today = ts_market.ix[ldt_timestamps[i]]\n",
      "            \n",
      "            if f_symval_today <= -2.0 and f_symval_yest >=-2.0 and f_marketval_today >=1.1 :\n",
      "                 df_events[s_sym].ix[ldt_timestamps[i]] = 1\n",
      "                \n",
      "                             \n",
      "                \n",
      "    return df_events"
     ],
     "language": "python",
     "metadata": {},
     "outputs": [],
     "prompt_number": 9
    },
    {
     "cell_type": "code",
     "collapsed": false,
     "input": [
      "df_events = find_event(ls_symbols, Bollinger_val)"
     ],
     "language": "python",
     "metadata": {},
     "outputs": [
      {
       "output_type": "stream",
       "stream": "stdout",
       "text": [
        "Finding Events\n"
       ]
      }
     ],
     "prompt_number": 10
    },
    {
     "cell_type": "code",
     "collapsed": false,
     "input": [
      "sum(df_events.sum())"
     ],
     "language": "python",
     "metadata": {},
     "outputs": [
      {
       "metadata": {},
       "output_type": "pyout",
       "prompt_number": 11,
       "text": [
        "243.0"
       ]
      }
     ],
     "prompt_number": 11
    },
    {
     "cell_type": "code",
     "collapsed": false,
     "input": [],
     "language": "python",
     "metadata": {},
     "outputs": []
    },
    {
     "cell_type": "code",
     "collapsed": false,
     "input": [
      "ep.eventprofiler(df_events, d_data, i_lookback=20,i_lookforward=20,\n",
      "                s_filename='MyEventStudy7.pdf', b_market_neutral=True, b_errorbars=True,\n",
      "                s_market_sym='SPY')"
     ],
     "language": "python",
     "metadata": {},
     "outputs": [
      {
       "metadata": {},
       "output_type": "display_data",
       "png": "[encoded data removed]",
       "text": [
        "<matplotlib.figure.Figure at 0xb8b34d0>"
       ]
      }
     ],
     "prompt_number": 12
    },
    {
     "cell_type": "code",
     "collapsed": false,
     "input": [],
     "language": "python",
     "metadata": {},
     "outputs": []
    }
   ],
   "metadata": {}
  }
 ]
}
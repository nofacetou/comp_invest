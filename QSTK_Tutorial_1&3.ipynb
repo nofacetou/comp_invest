{
 "metadata": {
  "name": "",
  "signature": "sha256:e571704027cba84fa275c99c1a9284cf0666c5ffc49a317f8b3be407934f5435"
 },
 "nbformat": 3,
 "nbformat_minor": 0,
 "worksheets": [
  {
   "cells": [
    {
     "cell_type": "code",
     "collapsed": false,
     "input": [
      "import QSTK.qstkutil.qsdateutil as du\n",
      "import QSTK.qstkutil.tsutil as tsu\n",
      "import QSTK.qstkutil.DataAccess as da\n",
      "\n",
      "import datetime as dt\n",
      "import matplotlib.pyplot as plt\n",
      "import pandas as pd\n",
      "import numpy as np\n",
      "%matplotlib inline  "
     ],
     "language": "python",
     "metadata": {},
     "outputs": [],
     "prompt_number": 210
    },
    {
     "cell_type": "code",
     "collapsed": false,
     "input": [
      "ls_symbols = ['BRCM', 'TXN', 'AMD', 'ADI'] \n",
      "X = np.empty(shape=[0, 4])\n",
      "for i in np.linspace(0, 1, 11):\n",
      "    for j in np.linspace(0, 1, 11):\n",
      "        for k in np.linspace(0, 1, 11):\n",
      "            for l in np.linspace(0, 1, 11):\n",
      "                if i+j+k+l == 1:\n",
      "                    X = np.append(X, [[i, j, k, l]], axis=0)\n",
      "#symbols = ['GOOG','AAPL','GLD','XOM']\n",
      "allo = X.transpose()\n",
      "dt_start = dt.datetime(2011, 1, 1)\n",
      "dt_end = dt.datetime(2011, 12, 31)\n",
      "dt_timeofday = dt.timedelta(hours=16)\n",
      "ldt_timestamps = du.getNYSEdays(dt_start, dt_end, dt_timeofday)"
     ],
     "language": "python",
     "metadata": {},
     "outputs": [],
     "prompt_number": 211
    },
    {
     "cell_type": "code",
     "collapsed": false,
     "input": [
      "#c_dataobj = da.DataAccess('Yahoo')\n",
      "c_dataobj = da.DataAccess('Yahoo', cachestalltime=0)\n",
      "ls_keys = ['open', 'high', 'low', 'close', 'volume', 'actual_close']\n",
      "ldf_data = c_dataobj.get_data(ldt_timestamps, ls_symbols, ls_keys)\n"
     ],
     "language": "python",
     "metadata": {},
     "outputs": [],
     "prompt_number": 212
    },
    {
     "cell_type": "code",
     "collapsed": false,
     "input": [
      "d_data = dict(zip(ls_keys, ldf_data))\n",
      "na_price = d_data['close'].values\n",
      "na_price.shape\n",
      "#port_price = np.dot(na_price, allo)\n"
     ],
     "language": "python",
     "metadata": {},
     "outputs": [
      {
       "metadata": {},
       "output_type": "pyout",
       "prompt_number": 213,
       "text": [
        "(252, 4)"
       ]
      }
     ],
     "prompt_number": 213
    },
    {
     "cell_type": "code",
     "collapsed": false,
     "input": [
      "na_normalized_price = na_price / na_price[0, :]\n",
      "cum_daily_ret = np.dot(na_normalized_price, allo)\n",
      "cum_ret = cum_daily_ret[-1,:]\n",
      "daily_ret = tsu.returnize0(cum_daily_ret)\n",
      "avg_daily_ret = np.mean(daily_ret,axis=0)\n",
      "std = np.std(daily_ret, axis=0)\n",
      "Sharpe = avg_daily_ret / std *np.sqrt(252)\n",
      "#port_normalized_price = port_price / port_price[0]\n",
      "#cum_ret = np.multiply(na_normalized_price, allo) \n",
      "#port_normalized_price"
     ],
     "language": "python",
     "metadata": {},
     "outputs": [],
     "prompt_number": 220
    },
    {
     "cell_type": "code",
     "collapsed": false,
     "input": [
      "cum_daily_ret[-1,:][72]"
     ],
     "language": "python",
     "metadata": {},
     "outputs": [
      {
       "metadata": {},
       "output_type": "pyout",
       "prompt_number": 230,
       "text": [
        "-0.0026354392706158247"
       ]
      }
     ],
     "prompt_number": 230
    },
    {
     "cell_type": "code",
     "collapsed": false,
     "input": [
      "allo[:,72]"
     ],
     "language": "python",
     "metadata": {},
     "outputs": [
      {
       "metadata": {},
       "output_type": "pyout",
       "prompt_number": 209,
       "text": [
        "array([ 0.1,  0.1,  0. ,  0.8])"
       ]
      }
     ],
     "prompt_number": 209
    },
    {
     "cell_type": "code",
     "collapsed": false,
     "input": [
      "#plt.clf()\n",
      "#fig1 = plt.figure()\n",
      "plt.xticks(rotation=70)\n",
      "plt.plot(ldt_timestamps, na_price)\n",
      "plt.legend(ls_symbols)\n",
      "plt.ylabel('Adjusted Close')\n",
      "plt.xlabel('Date')\n",
      "\n",
      "#plt.show()\n"
     ],
     "language": "python",
     "metadata": {},
     "outputs": [
      {
       "metadata": {},
       "output_type": "pyout",
       "prompt_number": 36,
       "text": [
        "<matplotlib.text.Text at 0x13b02270>"
       ]
      },
      {
       "metadata": {},
       "output_type": "display_data",
       "png": "[encoded data removed]",
       "text": [
        "<matplotlib.figure.Figure at 0x12391fb0>"
       ]
      }
     ],
     "prompt_number": 36
    },
    {
     "cell_type": "code",
     "collapsed": false,
     "input": [],
     "language": "python",
     "metadata": {},
     "outputs": []
    },
    {
     "cell_type": "code",
     "collapsed": false,
     "input": [],
     "language": "python",
     "metadata": {},
     "outputs": []
    },
    {
     "cell_type": "code",
     "collapsed": false,
     "input": [
      "na_normalized_price = na_price / na_price[0, :]\n",
      "na_rets = na_normalized_price.copy()\n",
      "tsu.returnize0(na_rets)\n",
      "\n",
      "plt.scatter(na_rets[:, 3], na_rets[:, 1], c='blue')\n",
      "plt.ylabel('GLD')\n",
      "plt.xlabel('$SPX')"
     ],
     "language": "python",
     "metadata": {},
     "outputs": [
      {
       "metadata": {},
       "output_type": "pyout",
       "prompt_number": 39,
       "text": [
        "<matplotlib.text.Text at 0x135f30f0>"
       ]
      },
      {
       "metadata": {},
       "output_type": "display_data",
       "png": "[encoded data removed]",
       "text": [
        "<matplotlib.figure.Figure at 0x13522450>"
       ]
      }
     ],
     "prompt_number": 39
    },
    {
     "cell_type": "code",
     "collapsed": false,
     "input": [
      "\"\"\"\n",
      "Write a program to generate 100 random integers between 1 and 100. \n",
      "It should generate exactly the same numbers each time you run it. \n",
      "Bonus: If you wonder whether the distribution should be normal or uniform, give yourself extra points.\n",
      "\"\"\"\n",
      "import random\n",
      "#random.uniform(1, 10)\n",
      "random.seed(1)\n",
      "random.normalvariate(0, 1)\n",
      "#[random.randint(1, 100) for i in range(100)]"
     ],
     "language": "python",
     "metadata": {},
     "outputs": [
      {
       "metadata": {},
       "output_type": "pyout",
       "prompt_number": 54,
       "text": [
        "0.6074558576437062"
       ]
      }
     ],
     "prompt_number": 54
    },
    {
     "cell_type": "code",
     "collapsed": false,
     "input": [
      "\n",
      "np.random.seed(293423)\n",
      "ex1 = np.random.randint(1, 101,size=100)"
     ],
     "language": "python",
     "metadata": {},
     "outputs": [],
     "prompt_number": 66
    },
    {
     "cell_type": "code",
     "collapsed": false,
     "input": [
      "\"\"\"Write a program to sort a list of numbers provided on standard input \n",
      "(for instance, the numbers you generated above). \n",
      "You are NOT allowed to call external routines to do the sorting for you. \n",
      "After sorting the numbers, print them out. \n",
      "Focus on a simple method (not an efficient method).\"\"\"\n",
      "#sorted(ex1)\n",
      "#ex1.sort()"
     ],
     "language": "python",
     "metadata": {},
     "outputs": [
      {
       "metadata": {},
       "output_type": "pyout",
       "prompt_number": 70,
       "text": [
        "'Write a program to sort a list of numbers provided on standard input \\n(for instance, the numbers you generated above). \\nYou are NOT allowed to call external routines to do the sorting for you. \\nAfter sorting the numbers, print them out. \\nFocus on a simple method (not an efficient method).'"
       ]
      }
     ],
     "prompt_number": 70
    },
    {
     "cell_type": "code",
     "collapsed": false,
     "input": [
      "np.linspace(0, 1, 11)"
     ],
     "language": "python",
     "metadata": {},
     "outputs": [
      {
       "metadata": {},
       "output_type": "pyout",
       "prompt_number": 142,
       "text": [
        "array([ 0. ,  0.1,  0.2,  0.3,  0.4,  0.5,  0.6,  0.7,  0.8,  0.9,  1. ])"
       ]
      }
     ],
     "prompt_number": 142
    },
    {
     "cell_type": "code",
     "collapsed": false,
     "input": [
      "import itertools \n",
      "ls =['SPY','IBM','GLD','AAA','RSP','QQQ']\n",
      "for thing in itertools.combinations(ls,4):\n",
      "    print ' '.join(thing)"
     ],
     "language": "python",
     "metadata": {},
     "outputs": [
      {
       "output_type": "stream",
       "stream": "stdout",
       "text": [
        "SPY IBM GLD AAA\n",
        "SPY IBM GLD RSP\n",
        "SPY IBM GLD QQQ\n",
        "SPY IBM AAA RSP\n",
        "SPY IBM AAA QQQ\n",
        "SPY IBM RSP QQQ\n",
        "SPY GLD AAA RSP\n",
        "SPY GLD AAA QQQ\n",
        "SPY GLD RSP QQQ\n",
        "SPY AAA RSP QQQ\n",
        "IBM GLD AAA RSP\n",
        "IBM GLD AAA QQQ\n",
        "IBM GLD RSP QQQ\n",
        "IBM AAA RSP QQQ\n",
        "GLD AAA RSP QQQ\n"
       ]
      }
     ],
     "prompt_number": 13
    },
    {
     "cell_type": "code",
     "collapsed": false,
     "input": [
      "def x(l,c):\n",
      " for i in range(l):\n",
      "  for b in x(i,c-1):yield[i]+b\n",
      " if c==0:yield[]\n",
      "for n in x(6,4):\n",
      " for i in n:print ['SPY','IBM','GLD','AAA','RSP','QQQ'][i],\n",
      " print"
     ],
     "language": "python",
     "metadata": {},
     "outputs": [
      {
       "output_type": "stream",
       "stream": "stdout",
       "text": [
        "AAA GLD IBM SPY\n",
        "RSP GLD IBM SPY\n",
        "RSP AAA IBM SPY\n",
        "RSP AAA GLD SPY\n",
        "RSP AAA GLD IBM\n",
        "QQQ GLD IBM SPY\n",
        "QQQ AAA IBM SPY\n",
        "QQQ AAA GLD SPY\n",
        "QQQ AAA GLD IBM\n",
        "QQQ RSP IBM SPY\n",
        "QQQ RSP GLD SPY\n",
        "QQQ RSP GLD IBM\n",
        "QQQ RSP AAA SPY\n",
        "QQQ RSP AAA IBM\n",
        "QQQ RSP AAA GLD\n"
       ]
      }
     ],
     "prompt_number": 14
    },
    {
     "cell_type": "code",
     "collapsed": false,
     "input": [
      "[0]*4"
     ],
     "language": "python",
     "metadata": {},
     "outputs": [
      {
       "metadata": {},
       "output_type": "pyout",
       "prompt_number": 15,
       "text": [
        "[0, 0, 0, 0]"
       ]
      }
     ],
     "prompt_number": 15
    },
    {
     "cell_type": "code",
     "collapsed": false,
     "input": [
      "def unique_rows(a):\n",
      "    unique_a = np.unique(a.view([('', a.dtype)]*a.shape[1]))\n",
      "    return unique_a.view(a.dtype).reshape((unique_a.shape[0], a.shape[1]))\n",
      "Z = unique_rows(X)"
     ],
     "language": "python",
     "metadata": {},
     "outputs": [],
     "prompt_number": 154
    },
    {
     "cell_type": "code",
     "collapsed": false,
     "input": [
      "Z.shape"
     ],
     "language": "python",
     "metadata": {},
     "outputs": [
      {
       "metadata": {},
       "output_type": "pyout",
       "prompt_number": 155,
       "text": [
        "(258, 4)"
       ]
      }
     ],
     "prompt_number": 155
    },
    {
     "cell_type": "code",
     "collapsed": false,
     "input": [],
     "language": "python",
     "metadata": {},
     "outputs": []
    }
   ],
   "metadata": {}
  }
 ]
}
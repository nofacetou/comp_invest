{
 "metadata": {
  "name": "",
  "signature": "sha256:1624e725af71c00911a3270820585097d35c4c2a3afb6e52431dc6c84a81d724"
 },
 "nbformat": 3,
 "nbformat_minor": 0,
 "worksheets": [
  {
   "cells": [
    {
     "cell_type": "code",
     "collapsed": false,
     "input": [
      "import pandas as pd\n",
      "import numpy as np\n",
      "import copy\n",
      "import QSTK.qstkutil.qsdateutil as du\n",
      "import datetime as dt\n",
      "import QSTK.qstkutil.DataAccess as da\n",
      "import QSTK.qstkutil.tsutil as tsu\n",
      "import QSTK.qstkstudy.EventProfiler as ep"
     ],
     "language": "python",
     "metadata": {},
     "outputs": [],
     "prompt_number": 183
    },
    {
     "cell_type": "code",
     "collapsed": false,
     "input": [
      "dt_start = dt.datetime(2010, 10, 1)\n",
      "dt_end = dt.datetime(2010, 12, 31)\n",
      "ldt_timestamps = du.getNYSEdays(dt_start, dt_end, dt.timedelta(hours=16))"
     ],
     "language": "python",
     "metadata": {},
     "outputs": [],
     "prompt_number": 184
    },
    {
     "cell_type": "code",
     "collapsed": false,
     "input": [
      "dataobj = da.DataAccess('Yahoo', cachestalltime=0)\n",
      "ls_symbols = dataobj.get_symbols_from_list('sp5002012')\n",
      "ls_symbols.append('$SPX')"
     ],
     "language": "python",
     "metadata": {},
     "outputs": [],
     "prompt_number": 185
    },
    {
     "cell_type": "code",
     "collapsed": false,
     "input": [
      "ls_keys = ['open', 'high', 'low', 'close', 'volume', 'actual_close']\n",
      "ldf_data = dataobj.get_data(ldt_timestamps, ls_symbols, ls_keys)\n",
      "d_data = dict(zip(ls_keys, ldf_data))\n"
     ],
     "language": "python",
     "metadata": {},
     "outputs": [],
     "prompt_number": 186
    },
    {
     "cell_type": "code",
     "collapsed": false,
     "input": [
      "for s_key in ls_keys:\n",
      "    d_data[s_key] = d_data[s_key].fillna(method='ffill')\n",
      "    d_data[s_key] = d_data[s_key].fillna(method='bfill')\n",
      "    d_data[s_key] = d_data[s_key].fillna(1.0)"
     ],
     "language": "python",
     "metadata": {},
     "outputs": [],
     "prompt_number": 187
    },
    {
     "cell_type": "code",
     "collapsed": false,
     "input": [
      "def find_event(ls_symbols, d_data):\n",
      "    ''' Finding the event dataframe '''\n",
      "    df_close = d_data['actual_close']\n",
      "    \n",
      "\n",
      "    print \"Finding Events\"\n",
      "\n",
      "    # Creating an empty dataframe\n",
      "    df_events = copy.deepcopy(df_close)\n",
      "    df_events = df_events * np.NAN\n",
      "    df_events = df_events.fillna(0)\n",
      "\n",
      "    # Time stamps for the event range\n",
      "    ldt_timestamps = df_close.index\n",
      "\n",
      "    for s_sym in ls_symbols:\n",
      "        for i in range(1, len(ldt_timestamps)):\n",
      "            # Calculating the returns for this timestamp\n",
      "            f_symprice_today = df_close[s_sym].ix[ldt_timestamps[i]]\n",
      "            f_symprice_yest = df_close[s_sym].ix[ldt_timestamps[i - 1]]\n",
      "            #f_marketprice_today = ts_market.ix[ldt_timestamps[i]]\n",
      "            #f_marketprice_yest = ts_market.ix[ldt_timestamps[i - 1]]\n",
      "            #f_symreturn_today = (f_symprice_today / f_symprice_yest) - 1\n",
      "            #f_marketreturn_today = (f_marketprice_today / f_marketprice_yest) - 1\n",
      "\n",
      "            # Event is found if the symbol is down more then 3% while the\n",
      "            # market is up more then 2%\n",
      "            #if f_symreturn_today <= -0.03 and f_marketreturn_today >= 0.02:\n",
      "            if f_symprice_today < 10.0 and f_symprice_yest >=10.0:\n",
      "                df_events[s_sym].ix[ldt_timestamps[i]] += 100\n",
      "                if i + 5 < len(ldt_timestamps) :\n",
      "                    df_events[s_sym].ix[ldt_timestamps[i + 5]] -= 100\n",
      "                else:\n",
      "                    df_events[s_sym].ix[ldt_timestamps[len(ldt_timestamps)-1]] -= 100\n",
      "                \n",
      "                             \n",
      "                \n",
      "    return df_events"
     ],
     "language": "python",
     "metadata": {},
     "outputs": [],
     "prompt_number": 188
    },
    {
     "cell_type": "code",
     "collapsed": false,
     "input": [
      "df_events = find_event(ls_symbols, d_data)"
     ],
     "language": "python",
     "metadata": {},
     "outputs": [
      {
       "output_type": "stream",
       "stream": "stdout",
       "text": [
        "Finding Events\n"
       ]
      }
     ],
     "prompt_number": 189
    },
    {
     "cell_type": "code",
     "collapsed": false,
     "input": [
      "df_holding = df_events.cumsum(axis=0)"
     ],
     "language": "python",
     "metadata": {},
     "outputs": [],
     "prompt_number": 190
    },
    {
     "cell_type": "code",
     "collapsed": false,
     "input": [
      "d_price = pd.DataFrame(d_data['close'])"
     ],
     "language": "python",
     "metadata": {},
     "outputs": [],
     "prompt_number": 191
    },
    {
     "cell_type": "code",
     "collapsed": false,
     "input": [
      "df_cash=df_events*d_price\n",
      "df_stock = df_holding*d_price\n",
      "capital = np.zeros(len(ldt_timestamps)) \n",
      "capital[0] = 50000 \n",
      "df_cashflow = df_cash.sum(axis=1)\n",
      "df_stock_holding = df_stock.sum(axis=1)\n",
      "df_cash_holding = capital - df_cashflow\n",
      "trade_begin = df_cashflow[df_cashflow!=0].index[0] \n",
      "trade_end = df_cashflow[df_cashflow!=0].index[-1]\n",
      "trade_timestamps = du.getNYSEdays(trade_begin, trade_end, dt.timedelta(hours=16))"
     ],
     "language": "python",
     "metadata": {},
     "outputs": [],
     "prompt_number": 192
    },
    {
     "cell_type": "code",
     "collapsed": false,
     "input": [
      "df_fund = pd.Series(index = date_ls)\n",
      "df_mkt = pd.Series(index = date_ls)"
     ],
     "language": "python",
     "metadata": {},
     "outputs": [],
     "prompt_number": 193
    },
    {
     "cell_type": "code",
     "collapsed": false,
     "input": [
      "df_cash_holding = df_cash_holding.cumsum(axis=0)\n",
      "df_cash_holding"
     ],
     "language": "python",
     "metadata": {},
     "outputs": [
      {
       "metadata": {},
       "output_type": "pyout",
       "prompt_number": 194,
       "text": [
        "2008-01-02 16:00:00    50000\n",
        "2008-01-03 16:00:00    48044\n",
        "2008-01-04 16:00:00    48044\n",
        "2008-01-07 16:00:00    48044\n",
        "2008-01-08 16:00:00    48044\n",
        "2008-01-09 16:00:00    48044\n",
        "2008-01-10 16:00:00    49879\n",
        "2008-01-11 16:00:00    49879\n",
        "2008-01-14 16:00:00    49879\n",
        "2008-01-15 16:00:00    49879\n",
        "2008-01-16 16:00:00    49879\n",
        "2008-01-17 16:00:00    49879\n",
        "2008-01-18 16:00:00    49009\n",
        "2008-01-22 16:00:00    49009\n",
        "2008-01-23 16:00:00    49009\n",
        "...\n",
        "2009-12-09 16:00:00    57584\n",
        "2009-12-10 16:00:00    57584\n",
        "2009-12-11 16:00:00    57584\n",
        "2009-12-14 16:00:00    58558\n",
        "2009-12-15 16:00:00    57742\n",
        "2009-12-16 16:00:00    57742\n",
        "2009-12-17 16:00:00    57742\n",
        "2009-12-18 16:00:00    57742\n",
        "2009-12-21 16:00:00    57742\n",
        "2009-12-22 16:00:00    59801\n",
        "2009-12-23 16:00:00    58846\n",
        "2009-12-24 16:00:00    58846\n",
        "2009-12-28 16:00:00    56900\n",
        "2009-12-29 16:00:00    56900\n",
        "2009-12-30 16:00:00    59789\n",
        "Length: 504"
       ]
      }
     ],
     "prompt_number": 194
    },
    {
     "cell_type": "code",
     "collapsed": false,
     "input": [
      "df_values = df_cash_holding.add(df_stock_holding, fill_value= 0)"
     ],
     "language": "python",
     "metadata": {},
     "outputs": [],
     "prompt_number": 195
    },
    {
     "cell_type": "code",
     "collapsed": false,
     "input": [
      "df_fund.update(df_values)\n"
     ],
     "language": "python",
     "metadata": {},
     "outputs": [],
     "prompt_number": 196
    },
    {
     "cell_type": "code",
     "collapsed": false,
     "input": [
      "ts_market = d_price['$SPX']\n",
      "df_mkt.update(ts_market) "
     ],
     "language": "python",
     "metadata": {},
     "outputs": [],
     "prompt_number": 197
    },
    {
     "cell_type": "code",
     "collapsed": false,
     "input": [
      "ts_market_normalized = df_mkt / df_mkt[0]\n",
      "cum_ret = ts_market_normalized[-1]"
     ],
     "language": "python",
     "metadata": {},
     "outputs": [],
     "prompt_number": 198
    },
    {
     "cell_type": "code",
     "collapsed": false,
     "input": [
      "cum_ret"
     ],
     "language": "python",
     "metadata": {},
     "outputs": [
      {
       "metadata": {},
       "output_type": "pyout",
       "prompt_number": 199,
       "text": [
        "0.77930567456259148"
       ]
      }
     ],
     "prompt_number": 199
    },
    {
     "cell_type": "code",
     "collapsed": false,
     "input": [
      "temp = ts_market_normalized.copy()\n",
      "raw_daily_ret = tsu.returnize0(temp)\n",
      "daily_ret = np.mean(raw_daily_ret) \n",
      "vol = np.std(raw_daily_ret)\n",
      "    #sharpe = daily_ret / vol *np.sqrt(len(raw_daily_ret))\n",
      "sharpe = daily_ret / vol *np.sqrt(252)"
     ],
     "language": "python",
     "metadata": {},
     "outputs": [],
     "prompt_number": 200
    },
    {
     "cell_type": "code",
     "collapsed": false,
     "input": [
      "daily_ret"
     ],
     "language": "python",
     "metadata": {},
     "outputs": [
      {
       "metadata": {},
       "output_type": "pyout",
       "prompt_number": 201,
       "text": [
        "-0.00025533465346670319"
       ]
      }
     ],
     "prompt_number": 201
    },
    {
     "cell_type": "code",
     "collapsed": false,
     "input": [
      "vol"
     ],
     "language": "python",
     "metadata": {},
     "outputs": [
      {
       "metadata": {},
       "output_type": "pyout",
       "prompt_number": 202,
       "text": [
        "0.022004631520962974"
       ]
      }
     ],
     "prompt_number": 202
    },
    {
     "cell_type": "code",
     "collapsed": false,
     "input": [
      "sharpe"
     ],
     "language": "python",
     "metadata": {},
     "outputs": [
      {
       "metadata": {},
       "output_type": "pyout",
       "prompt_number": 203,
       "text": [
        "-0.18420267393058054"
       ]
      }
     ],
     "prompt_number": 203
    },
    {
     "cell_type": "code",
     "collapsed": false,
     "input": [
      "fund_normalized = df_fund / df_fund[0]\n",
      "fund_cum_ret = fund_normalized[-1]\n",
      "temp1 = fund_normalized.copy()\n",
      "fund_raw_daily_ret = tsu.returnize0(temp1)\n",
      "fund_daily_ret = np.mean(fund_raw_daily_ret)\n",
      "fund_vol = np.std(fund_raw_daily_ret)\n",
      "    #sharpe = daily_ret / vol *np.sqrt(len(raw_daily_ret))\n",
      "fund_sharpe = fund_daily_ret / fund_vol *np.sqrt(252)"
     ],
     "language": "python",
     "metadata": {},
     "outputs": [],
     "prompt_number": 204
    },
    {
     "cell_type": "code",
     "collapsed": false,
     "input": [
      "fund_cum_ret"
     ],
     "language": "python",
     "metadata": {},
     "outputs": [
      {
       "metadata": {},
       "output_type": "pyout",
       "prompt_number": 205,
       "text": [
        "1.1960999999999999"
       ]
      }
     ],
     "prompt_number": 205
    },
    {
     "cell_type": "code",
     "collapsed": false,
     "input": [
      "fund_daily_ret"
     ],
     "language": "python",
     "metadata": {},
     "outputs": [
      {
       "metadata": {},
       "output_type": "pyout",
       "prompt_number": 206,
       "text": [
        "0.00041647505329788339"
       ]
      }
     ],
     "prompt_number": 206
    },
    {
     "cell_type": "code",
     "collapsed": false,
     "input": [
      "fund_vol"
     ],
     "language": "python",
     "metadata": {},
     "outputs": [
      {
       "metadata": {},
       "output_type": "pyout",
       "prompt_number": 207,
       "text": [
        "0.01085532479311457"
       ]
      }
     ],
     "prompt_number": 207
    },
    {
     "cell_type": "code",
     "collapsed": false,
     "input": [
      "fund_sharpe"
     ],
     "language": "python",
     "metadata": {},
     "outputs": [
      {
       "metadata": {},
       "output_type": "pyout",
       "prompt_number": 208,
       "text": [
        "0.60904087493770154"
       ]
      }
     ],
     "prompt_number": 208
    },
    {
     "cell_type": "code",
     "collapsed": false,
     "input": [],
     "language": "python",
     "metadata": {},
     "outputs": [],
     "prompt_number": 96
    },
    {
     "cell_type": "code",
     "collapsed": false,
     "input": [],
     "language": "python",
     "metadata": {},
     "outputs": []
    }
   ],
   "metadata": {}
  }
 ]
}
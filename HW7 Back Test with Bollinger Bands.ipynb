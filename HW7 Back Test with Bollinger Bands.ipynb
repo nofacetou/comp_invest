{
 "metadata": {
  "name": "",
  "signature": "sha256:6362e7089d8848bcf55ef8782f1695e984345d85bef74c46b265d55d8b217248"
 },
 "nbformat": 3,
 "nbformat_minor": 0,
 "worksheets": [
  {
   "cells": [
    {
     "cell_type": "code",
     "collapsed": false,
     "input": [
      "import pandas as pd\n",
      "import numpy as np\n",
      "import copy\n",
      "import QSTK.qstkutil.qsdateutil as du\n",
      "import datetime as dt\n",
      "import QSTK.qstkutil.DataAccess as da\n",
      "import QSTK.qstkutil.tsutil as tsu\n",
      "import QSTK.qstkstudy.EventProfiler as ep\n",
      "import matplotlib.pyplot as plt\n",
      "%matplotlib inline"
     ],
     "language": "python",
     "metadata": {},
     "outputs": [],
     "prompt_number": 1
    },
    {
     "cell_type": "code",
     "collapsed": false,
     "input": [
      "dt_start = dt.datetime(2008, 1, 1)\n",
      "dt_end = dt.datetime(2009, 12, 31)\n",
      "timeofday=dt.timedelta(hours=16)\n",
      "ldt_timestamps = du.getNYSEdays(dt_start, dt_end, timeofday)\n",
      "ls_keys = ['open', 'high', 'low', 'close', 'volume', 'actual_close']\n",
      "dataobj = da.DataAccess('Yahoo', cachestalltime=0)\n",
      "ls_symbols = dataobj.get_symbols_from_list('sp5002012')\n",
      "ls_symbols.append('$SPX')\n",
      "ls_symbols.append('SPY')\n",
      "ldf_data = dataobj.get_data(ldt_timestamps, ls_symbols, ls_keys)\n",
      "d_data = dict(zip(ls_keys, ldf_data))"
     ],
     "language": "python",
     "metadata": {},
     "outputs": [],
     "prompt_number": 63
    },
    {
     "cell_type": "code",
     "collapsed": false,
     "input": [
      "for s_key in ls_keys:\n",
      "    d_data[s_key] = d_data[s_key].fillna(method='ffill')\n",
      "    d_data[s_key] = d_data[s_key].fillna(method='bfill')\n",
      "    d_data[s_key] = d_data[s_key].fillna(1.0)"
     ],
     "language": "python",
     "metadata": {},
     "outputs": [],
     "prompt_number": 64
    },
    {
     "cell_type": "code",
     "collapsed": false,
     "input": [
      "rolling_avg = pd.rolling_mean(d_data['close'],20,min_periods=20)\n",
      "rolling_std = pd.rolling_std(d_data['close'],20,min_periods=20)\n",
      "Bollinger_val = (d_data['close'] - rolling_avg)/rolling_std"
     ],
     "language": "python",
     "metadata": {},
     "outputs": [],
     "prompt_number": 65
    },
    {
     "cell_type": "code",
     "collapsed": false,
     "input": [
      "def find_event(ls_symbols, Bollinger_val):\n",
      "    ''' Finding the event dataframe '''\n",
      "    ts_market = Bollinger_val['SPY']\n",
      "\n",
      "\n",
      "    print \"Finding Events\"\n",
      "\n",
      "    # Creating an empty dataframe\n",
      "    df_events = copy.deepcopy(Bollinger_val)\n",
      "    df_events = df_events * np.NAN\n",
      "    df_events = df_events.fillna(0)\n",
      "\n",
      "    # Time stamps for the event range\n",
      "    ldt_timestamps = Bollinger_val.index\n",
      "\n",
      "    for s_sym in ls_symbols:\n",
      "        for i in range(1, len(ldt_timestamps)):\n",
      "            #Bollinger value for the equity today <= -2.0\n",
      "            #Bollinger value for the equity yesterday >= -2.0\n",
      "            #Bollinger value for SPY today >= 1.0\n",
      "            f_symval_today = Bollinger_val[s_sym].ix[ldt_timestamps[i]]\n",
      "            f_symval_yest = Bollinger_val[s_sym].ix[ldt_timestamps[i - 1]]\n",
      "            f_marketval_today = ts_market.ix[ldt_timestamps[i]]\n",
      "\n",
      "            if f_symval_today < -2.0 and f_symval_yest >=-2.0 and f_marketval_today >=1.2 :\n",
      "                df_events[s_sym].ix[ldt_timestamps[i]] += 100\n",
      "                if i + 5 < len(ldt_timestamps) :\n",
      "                    df_events[s_sym].ix[ldt_timestamps[i + 5]] -= 100\n",
      "                else:\n",
      "                    df_events[s_sym].ix[ldt_timestamps[len(ldt_timestamps)-1]] -= 100\n",
      "\n",
      "\n",
      "\n",
      "    return df_events"
     ],
     "language": "python",
     "metadata": {},
     "outputs": [],
     "prompt_number": 76
    },
    {
     "cell_type": "code",
     "collapsed": false,
     "input": [
      "df_events = find_event(ls_symbols, Bollinger_val)"
     ],
     "language": "python",
     "metadata": {},
     "outputs": [
      {
       "output_type": "stream",
       "stream": "stdout",
       "text": [
        "Finding Events\n"
       ]
      }
     ],
     "prompt_number": 77
    },
    {
     "cell_type": "code",
     "collapsed": false,
     "input": [],
     "language": "python",
     "metadata": {},
     "outputs": []
    },
    {
     "cell_type": "code",
     "collapsed": false,
     "input": [
      "df_holding = df_events.cumsum(axis=0)\n",
      "d_price = pd.DataFrame(d_data['close'])\n",
      "df_cash=df_events*d_price\n",
      "df_stock = df_holding*d_price\n",
      "capital = np.zeros(len(ldt_timestamps)) \n",
      "capital[0] = 100000\n",
      "df_cashflow = df_cash.sum(axis=1)\n",
      "df_stock_holding = df_stock.sum(axis=1)\n",
      "df_cash_holding = capital - df_cashflow\n",
      "trade_begin = df_cashflow[df_cashflow!=0].index[0] \n",
      "#trade_begin = df_cashflow.index[df_cashflow.index.get_loc(df_cashflow[df_cashflow!=0].index[0])-1]\n",
      "trade_end = df_cashflow[df_cashflow!=0].index[-1]\n",
      "trade_timestamps = du.getNYSEdays(trade_begin, trade_end, dt.timedelta(hours=16))\n"
     ],
     "language": "python",
     "metadata": {},
     "outputs": [],
     "prompt_number": 78
    },
    {
     "cell_type": "code",
     "collapsed": false,
     "input": [
      "trade_begin"
     ],
     "language": "python",
     "metadata": {},
     "outputs": [
      {
       "metadata": {},
       "output_type": "pyout",
       "prompt_number": 79,
       "text": [
        "Timestamp('2008-02-26 16:00:00', tz=None)"
       ]
      }
     ],
     "prompt_number": 79
    },
    {
     "cell_type": "code",
     "collapsed": false,
     "input": [
      "df_fund = pd.Series(index = trade_timestamps)\n",
      "df_mkt = pd.Series(index = trade_timestamps)\n",
      "\n",
      "df_cash_holding = df_cash_holding.cumsum(axis=0)\n",
      "df_values = df_cash_holding.add(df_stock_holding, fill_value= 0)\n",
      "df_fund.update(df_values)\n",
      "ts_market = d_price['$SPX']\n",
      "df_mkt.update(ts_market) "
     ],
     "language": "python",
     "metadata": {},
     "outputs": [],
     "prompt_number": 80
    },
    {
     "cell_type": "code",
     "collapsed": false,
     "input": [
      "ts_market_normalized = df_mkt / df_mkt[0]\n",
      "cum_ret = ts_market_normalized[-1]\n",
      "temp = ts_market_normalized.copy()\n",
      "raw_daily_ret = tsu.returnize0(temp)\n",
      "daily_ret = np.mean(raw_daily_ret) \n",
      "vol = np.std(raw_daily_ret)\n",
      "sharpe = daily_ret / vol *np.sqrt(252)\n",
      "fund_normalized = df_fund / df_fund[0]\n",
      "fund_cum_ret = fund_normalized[-1]\n",
      "temp1 = fund_normalized.copy()\n",
      "fund_raw_daily_ret = tsu.returnize0(temp1)\n",
      "fund_daily_ret = np.mean(fund_raw_daily_ret)\n",
      "fund_vol = np.std(fund_raw_daily_ret)\n",
      "fund_sharpe = fund_daily_ret / fund_vol *np.sqrt(252)"
     ],
     "language": "python",
     "metadata": {},
     "outputs": [],
     "prompt_number": 81
    },
    {
     "cell_type": "code",
     "collapsed": false,
     "input": [
      "cum_ret"
     ],
     "language": "python",
     "metadata": {},
     "outputs": [
      {
       "metadata": {},
       "output_type": "pyout",
       "prompt_number": 72,
       "text": [
        "0.82112552850269727"
       ]
      }
     ],
     "prompt_number": 72
    },
    {
     "cell_type": "code",
     "collapsed": false,
     "input": [
      "sharpe"
     ],
     "language": "python",
     "metadata": {},
     "outputs": [
      {
       "metadata": {},
       "output_type": "pyout",
       "prompt_number": 73,
       "text": [
        "-0.11967894925366614"
       ]
      }
     ],
     "prompt_number": 73
    },
    {
     "cell_type": "code",
     "collapsed": false,
     "input": [
      "fund_cum_ret"
     ],
     "language": "python",
     "metadata": {},
     "outputs": [
      {
       "metadata": {},
       "output_type": "pyout",
       "prompt_number": 74,
       "text": [
        "1.0920099999999999"
       ]
      }
     ],
     "prompt_number": 74
    },
    {
     "cell_type": "code",
     "collapsed": false,
     "input": [
      "fund_sharpe"
     ],
     "language": "python",
     "metadata": {},
     "outputs": [
      {
       "metadata": {},
       "output_type": "pyout",
       "prompt_number": 82,
       "text": [
        "0.49937993531539321"
       ]
      }
     ],
     "prompt_number": 82
    },
    {
     "cell_type": "code",
     "collapsed": false,
     "input": [],
     "language": "python",
     "metadata": {},
     "outputs": []
    }
   ],
   "metadata": {}
  }
 ]
}